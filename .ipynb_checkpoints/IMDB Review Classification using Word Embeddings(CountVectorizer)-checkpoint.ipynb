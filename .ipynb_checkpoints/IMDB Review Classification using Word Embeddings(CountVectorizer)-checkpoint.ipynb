{
 "cells": [
  {
   "cell_type": "code",
   "execution_count": 176,
   "metadata": {},
   "outputs": [],
   "source": [
    "#IMPORT LIBRARIES\n",
    "import pandas as pd\n",
    "import numpy as np\n",
    "import matplotlib.pyplot as plt\n"
   ]
  },
  {
   "cell_type": "markdown",
   "metadata": {},
   "source": [
    "### FOR OPEN THE TEXT FILE:"
   ]
  },
  {
   "cell_type": "code",
   "execution_count": 177,
   "metadata": {},
   "outputs": [],
   "source": [
    "\n",
    "with open(\"imdb_labelled.txt\",\"r\") as text_file:\n",
    "    lines = text_file.read().split('\\n')"
   ]
  },
  {
   "cell_type": "code",
   "execution_count": 178,
   "metadata": {},
   "outputs": [
    {
     "data": {
      "text/plain": [
       "['Not sure who was more lost - the flat characters or the audience, nearly half of whom walked out.  \\t0',\n",
       " 'Attempting artiness with black & white and clever camera angles, the movie disappointed - became even more ridiculous - as the acting was poor and the plot and lines almost non-existent.  \\t0',\n",
       " 'Very little music or anything to speak of.  \\t0',\n",
       " 'The best scene in the movie was when Gerardo is trying to find a song that keeps running through his head.  \\t1',\n",
       " \"The rest of the movie lacks art, charm, meaning... If it's about emptiness, it works I guess because it's empty.  \\t0\",\n",
       " 'Wasted two hours.  \\t0',\n",
       " 'Saw the movie today and thought it was a good effort, good messages for kids.  \\t1',\n",
       " 'A bit predictable.  \\t0',\n",
       " 'Loved the casting of Jimmy Buffet as the science teacher.  \\t1']"
      ]
     },
     "execution_count": 178,
     "metadata": {},
     "output_type": "execute_result"
    }
   ],
   "source": [
    "lines[1:10]#extract the elements of a list"
   ]
  },
  {
   "cell_type": "code",
   "execution_count": 179,
   "metadata": {},
   "outputs": [
    {
     "data": {
      "text/plain": [
       "[['Not sure who was more lost - the flat characters or the audience, nearly half of whom walked out.  ',\n",
       "  '0'],\n",
       " ['Attempting artiness with black & white and clever camera angles, the movie disappointed - became even more ridiculous - as the acting was poor and the plot and lines almost non-existent.  ',\n",
       "  '0'],\n",
       " ['Very little music or anything to speak of.  ', '0'],\n",
       " ['The best scene in the movie was when Gerardo is trying to find a song that keeps running through his head.  ',\n",
       "  '1'],\n",
       " [\"The rest of the movie lacks art, charm, meaning... If it's about emptiness, it works I guess because it's empty.  \",\n",
       "  '0'],\n",
       " ['Wasted two hours.  ', '0'],\n",
       " ['Saw the movie today and thought it was a good effort, good messages for kids.  ',\n",
       "  '1'],\n",
       " ['A bit predictable.  ', '0'],\n",
       " ['Loved the casting of Jimmy Buffet as the science teacher.  ', '1']]"
      ]
     },
     "execution_count": 179,
     "metadata": {},
     "output_type": "execute_result"
    }
   ],
   "source": [
    "# split by tab and remove corrupted data if any or lines which are not tab seperated\n",
    "lines = [line.split(\"\\t\") for line in lines if len(line.split(\"\\t\"))==2 and line.split(\"\\t\")[1]!='']\n",
    "lines[1:10]"
   ]
  },
  {
   "cell_type": "code",
   "execution_count": 180,
   "metadata": {},
   "outputs": [
    {
     "data": {
      "text/plain": [
       "['A very, very, very slow-moving, aimless movie about a distressed, drifting young man.  ',\n",
       " 'Not sure who was more lost - the flat characters or the audience, nearly half of whom walked out.  ',\n",
       " 'Attempting artiness with black & white and clever camera angles, the movie disappointed - became even more ridiculous - as the acting was poor and the plot and lines almost non-existent.  ',\n",
       " 'Very little music or anything to speak of.  ',\n",
       " 'The best scene in the movie was when Gerardo is trying to find a song that keeps running through his head.  ',\n",
       " \"The rest of the movie lacks art, charm, meaning... If it's about emptiness, it works I guess because it's empty.  \",\n",
       " 'Wasted two hours.  ',\n",
       " 'Saw the movie today and thought it was a good effort, good messages for kids.  ',\n",
       " 'A bit predictable.  ',\n",
       " 'Loved the casting of Jimmy Buffet as the science teacher.  ',\n",
       " 'And those baby owls were adorable.  ',\n",
       " \"The movie showed a lot of Florida at it's best, made it look very appealing.  \",\n",
       " 'The Songs Were The Best And The Muppets Were So Hilarious.  ',\n",
       " 'It Was So Cool.  ',\n",
       " 'This is a very \"right on case\" movie that delivers everything almost right in your face.  ',\n",
       " 'It had some average acting from the main person, and it was a low budget as you clearly can see.  ',\n",
       " 'This review is long overdue, since I consider A Tale of Two Sisters to be the single greatest film ever made.  ',\n",
       " \"I'll put this gem up against any movie in terms of screenplay, cinematography, acting, post-production, editing, directing, or any other aspect of film-making.  \",\n",
       " 'It\\'s practically perfect in all of them Â– a true masterpiece in a sea of faux \"masterpieces.  ',\n",
       " '\" The structure of this film is easily the most tightly constructed in the history of cinema.  ',\n",
       " 'I can think of no other film where something vitally important occurs every other minute.  ',\n",
       " 'In other words, the content level of this film is enough to easily fill a dozen other films.  ',\n",
       " 'How can anyone in their right mind ask for anything more from a movie than this?  ',\n",
       " \"It's quite simply the highest, most superlative form of cinema imaginable.  \",\n",
       " 'Yes, this film does require a rather significant amount of puzzle-solving, but the pieces fit together to create a beautiful picture.  ',\n",
       " 'This short film certainly pulls no punches.  ',\n",
       " 'Graphics is far from the best part of the game.  ',\n",
       " 'This is the number one best TH game in the series.  ',\n",
       " 'It deserves strong love.  ',\n",
       " 'It is an insane game.  ',\n",
       " \"There are massive levels, massive unlockable characters... it's just a massive game.  \",\n",
       " 'Waste your money on this game.  ',\n",
       " 'This is the kind of money that is wasted properly.  ',\n",
       " 'Actually, the graphics were good at the time.  ',\n",
       " 'Today the graphics are crap.  ',\n",
       " 'As they say in Canada, This is the fun game, aye.  ',\n",
       " 'This game rocks.  ',\n",
       " 'Buy it, play it, enjoy it, love it.  ',\n",
       " \"It's PURE BRILLIANCE.  \",\n",
       " 'This was a flick doomed from its conception.  ',\n",
       " 'The very idea of it was lame - take a minor character from a mediocre PG-13 film, and make a complete non-sequel while changing its tone to a PG-rated family movie.  ',\n",
       " \"I wasn't the least bit interested.  \",\n",
       " \"Not only did it only confirm that the film would be unfunny and generic, but it also managed to give away the ENTIRE movie; and I'm not exaggerating - every moment, every plot point, every joke is told in the trailer.  \",\n",
       " \"But it's just not funny.  \",\n",
       " \"But even the talented Carrell can't save this.  \",\n",
       " \"His co-stars don't fare much better, with people like Morgan Freeman, Jonah Hill, and Ed Helms just wasted.  \",\n",
       " 'The story itself is just predictable and lazy.  ',\n",
       " \"The only real effects work is the presence of all the animals, and the integration of those into the scenes is some of the worst and most obvious blue/green-screen work I've ever seen.  \",\n",
       " \"But whatever it was that cost them so much, it didn't translate to quality, that's for sure.  \",\n",
       " 'The film succeeds despite, or perhaps because of, an obviously meagre budget.  ',\n",
       " \"I'm glad the film didn't go for the most obvious choice, as a lesser film certainly would have.  \",\n",
       " 'In addition to having one of the most lovely songs ever written, French Cancan also boasts one of the cutest leading ladies ever to grace the screen.  ',\n",
       " \"It's hard not to fall head-over-heels in love with that girl.  \",\n",
       " \"On the negative, it's insipid enough to cause regret for another 2 hours of life wasted in front of the screen.  \",\n",
       " 'Long, whiny and pointless.  ',\n",
       " 'But I recommend waiting for their future efforts, let this one go.  ',\n",
       " 'Excellent cast, story line, performances.  ',\n",
       " 'Totally believable.  ',\n",
       " 'Anne Heche was utterly convincing.  ',\n",
       " \"Sam Shepard's portrayal of a gung ho Marine was sobering.  \",\n",
       " 'I sat riveted to the TV screen.  ',\n",
       " 'All in all I give this one a resounding 9 out of 10.  ',\n",
       " 'I do think Tom Hanks is a good actor.  ',\n",
       " 'I enjoyed reading this book to my children when they were little.  ',\n",
       " 'I was very disappointed in the movie.  ',\n",
       " 'One character is totally annoying with a voice that gives me the feeling of fingernails on a chalkboard.  ',\n",
       " 'There is a totally unnecessary train/roller coaster scene.  ',\n",
       " 'There was absolutely no warmth or charm to these scenes or characters.  ',\n",
       " 'This movie totally grates on my nerves.  ',\n",
       " \"The performances are not improved by improvisation, because the actors now have twice as much to worry about: not only whether they're delivering the line well, but whether the line itself is any good.  \",\n",
       " 'And, quite honestly, often its not very good.  ',\n",
       " \"Often the dialogue doesn't really follow from one line to another, or fit the surroundings.  \",\n",
       " 'It crackles with an unpredictable, youthful energy - but honestly, i found it hard to follow and concentrate on it meanders so badly.  ',\n",
       " 'There are some generally great things in it.  ',\n",
       " \"I wouldn't say they're worth 2 hours of your time, though.  \",\n",
       " 'The suspense builders were good, & just cross the line from G to PG.  ',\n",
       " 'I especially liked the non-cliche choices with the parents; in other movies, I could predict the dialog verbatim, but the writing in this movie made better selections.  ',\n",
       " \"If you want a movie that's not gross but gives you some chills, this is a great choice.  \",\n",
       " 'Alexander Nevsky is a great film.  ',\n",
       " 'He is an amazing film artist, one of the most important whoever lived.  ',\n",
       " 'I\\'m glad this pretentious piece of s*** didn\\'t do as planned by the Dodge stratus Big Shots... It\\'s gonna help movie makers who aren\\'t in the very restrained \"movie business\" of QuÃ©bec.  ',\n",
       " \"This if the first movie I've given a 10 to in years.  \",\n",
       " 'If there was ever a movie that needed word-of-mouth to promote, this is it.  ',\n",
       " 'Overall, the film is interesting and thought-provoking.  ',\n",
       " 'Plus, it was well-paced and suited its relatively short run time.  ',\n",
       " 'Give this one a look.  ',\n",
       " 'I gave it a 10  ',\n",
       " 'The Wind and the Lion is well written and superbly acted.  ',\n",
       " 'It is a true classic.  ',\n",
       " 'It actually turned out to be pretty decent as far as B-list horror/suspense films go.  ',\n",
       " 'Definitely worth checking out.  ',\n",
       " 'The problem was the script.  ',\n",
       " 'It was horrendous.  ',\n",
       " 'There was NOTHING believable about it at all.  ',\n",
       " 'The only suspense I was feeling was the frustration at just how retarded the girls were.  ',\n",
       " 'MANNA FROM HEAVEN is a terrific film that is both predictable and unpredictable at the same time.  ',\n",
       " 'The scenes are often funny and occasionally touching as the characters evaluate their lives and where they are going.  ',\n",
       " 'The cast of veteran actors are more than just a nostalgia trip.  ',\n",
       " \"Ursula Burton's portrayal of the nun is both touching and funny at the same time with out making fun of nuns or the church.  \",\n",
       " 'If you are looking for a movie with a terrific cast, some good music(including a Shirley Jones rendition of \"The Way You Look Tonight\"), and an uplifting ending, give this one a try.  ',\n",
       " \"I don't think you will be disappointed.  \",\n",
       " 'Frankly, after Cotton club and Unfaithful, it was kind of embarrassing to watch Lane and Gere in this film, because it is BAD.  ',\n",
       " 'The acting was bad, the dialogs were extremely shallow and insincere.  ',\n",
       " 'It was too predictable, even for a chick flick.  ',\n",
       " 'Too politically correct.  ',\n",
       " 'Very disappointing.  ',\n",
       " 'The only thing really worth watching was the scenery and the house, because it is beautiful.  ',\n",
       " \"I love Lane, but I've never seen her in a movie this lousy.  \",\n",
       " 'An hour and a half I wish I could bring back.  ',\n",
       " \"But in terms of the writing it's very fresh and bold.  \",\n",
       " 'The acting helps the writing along very well (maybe the idiot-savant sister could have been played better), and it is a real joy to watch.  ',\n",
       " \"The directing and the cinematography aren't quite as good.  \",\n",
       " 'The movie was so boring, that I sometimes found myself occupied peaking in the paper instead of watching (never happened during a Columbo movie before!  ',\n",
       " '), and sometimes it was so embarrassing that I had to look away.  ',\n",
       " 'The directing seems too pretentious.  ',\n",
       " 'The scenes with the \"oh-so-mature\" neighbour-girl are a misplace.  ',\n",
       " 'And generally the lines and plot is weaker than the average episode.  ',\n",
       " 'Then scene where they debated whether or not to sack the trumpeter (who falsely was accused for the murder) is pure horror, really stupid.  ',\n",
       " 'Some applause should be given to the \"prelude\" however.  ',\n",
       " 'I really liked that.  ',\n",
       " 'A great film by a great director.  ',\n",
       " 'The movie had you on the edge of your seat and made you somewhat afraid to go to your car at the end of the night.  ',\n",
       " 'The music in the film is really nice too.  ',\n",
       " \"I'd advise anyone to go and see it.  \",\n",
       " 'Brilliant!  ',\n",
       " '10/10  ',\n",
       " 'I liked this movie way too much.  ',\n",
       " 'My only problem is I thought the actor playing the villain was a low rent Michael Ironside.  ',\n",
       " 'It rocked my world and is certainly a must see for anyone with no social or physical outlets.  ',\n",
       " \"However, this didn't make up for the fact that overall, this was a tremendously boring movie.  \",\n",
       " \"There was NO chemistry between Ben Affleck and Sandra Bullock in this film, and I couldn't understand why he would consider even leaving his wife-to-be for this chick that he supposedly was knocked out by.  \",\n",
       " \"There were several moments in the movie that just didn't need to be there and were excruciatingly slow moving.  \",\n",
       " 'This was a poor remake of \"My Best Friends Wedding\".  ',\n",
       " 'All in all, a great disappointment.  ',\n",
       " 'I cannot believe that the actors agreed to do this \"film\".  ',\n",
       " 'I could not stand to even watch it for very long for fear of losing I.Q.  ',\n",
       " 'I guess that nobody at the network that aired this dribble watched it before putting it on.  ',\n",
       " \"IMDB ratings only go as low 1 for awful, it's time to get some negative numbers in there for cases such as these.  \",\n",
       " 'I saw \"Mirrormask\" last night and it was an unsatisfactory experience.  ',\n",
       " 'Unfortunately, inexperience of direction meant that scene after scene passed with little in the way of dramatic tension or conflict.  ',\n",
       " 'These are the central themes of the film and they are handled ineptly, stereotypically and with no depth of imagination.  ',\n",
       " 'All the pretty pictures in the world cannot make up for a piece of work that is flawed at the core.  ',\n",
       " 'It is an hour and half waste of time, following a bunch of very pretty high schoolers whine and cry about life.  ',\n",
       " \"You can't relate with them, hell you barely can understand them.  \",\n",
       " 'This is definitely a cult classic well worth viewing and sharing with others.  ',\n",
       " 'This movie is a pure disaster, the story is stupid and the editing is the worst I have seen, it confuses you incredibly.  ',\n",
       " 'The fish is badly made and some of its underwater shots are repeated a thousand times in the film.  ',\n",
       " 'A truly, truly bad film.  ',\n",
       " 'The acting is terrible, and the writing is worse.  ',\n",
       " 'The only possible way this movie could be redeemed would be as MST3K fodder.  ',\n",
       " 'I paid too much.  ',\n",
       " \"Also, it's a real treat to see Anthony Quinn playing Crazy Horse.  \",\n",
       " 'It was so BORING!  ',\n",
       " 'No plot whatsoever!  ',\n",
       " 'Again, no plot at all.  ',\n",
       " 'Horrible!  ',\n",
       " 'Worst hour and a half of my life!Oh my gosh!  ',\n",
       " 'I had to walk out of the theatre for a few minutes just to get some relief!  ',\n",
       " 'I hate movies like that.  ',\n",
       " 'Yeah, the movie pretty much sucked.  ',\n",
       " 'THERE IS NO PLOT OR STORYLINE!!  ',\n",
       " 'If you do go see this movie, bring a pillow or a girlfriend/boyfriend to keep you occupied through out.  ',\n",
       " 'Awful.  ',\n",
       " \"I don't think I've ever gone to a movie and disliked it as much.  \",\n",
       " \"It was a good thing that the tickets only cost five dollars because I would be mad if I'd have paid $7.50 to see this crap.  \",\n",
       " \"NOBODY identifies with these characters because they're all cardboard cutouts and stereotypes (or predictably reverse-stereotypes).  \",\n",
       " \"This is a bad film, with bad writing, and good actors....an ugly cartoon crafted by Paul Haggis for people who can't handle anything but the bold strokes in storytelling....a picture painted with crayons.  \",\n",
       " 'Crash is a depressing little nothing, that provokes emotion, but teaches you nothing if you already know racism and prejudice are bad things.  ',\n",
       " \"Still, I do like this movie for it's empowerment of women; there's not enough movies out there like this one.  \",\n",
       " 'Your brain will attempt to shut-down as part of a primal impulse of self-preservation.  ',\n",
       " \"I was left shattered from the experience of watching this 'film' and I took a good two hours to fully recover.  \",\n",
       " 'This movie now joins Revenge of the Boogeyman and Zombiez as part of the hellish trinity of horror films.  ',\n",
       " 'I certainly do not mean this distinction in a good way.  ',\n",
       " 'I mean this in a terrible way.  ',\n",
       " 'This film has no redeeming features.  ',\n",
       " 'Everything is appalling.  ',\n",
       " 'Artless camera-work endlessly presents us with the ugliest setting imaginable, i.e.  ',\n",
       " 'The story is beyond stupid.  ',\n",
       " 'The script isÂ…was there a script?  ',\n",
       " 'The kids are annoying.  ',\n",
       " 'The lead man is charisma-free.  ',\n",
       " 'Utterly without merit on any level, this is akin to torture.  ',\n",
       " \"I'll even say it again Â– this is torture.  \",\n",
       " 'Maybe there would be a reasonable explanation for this atrocity.  ',\n",
       " 'Not a pleasant voyage of self-discovery.  ',\n",
       " 'Highly unrecommended.  ',\n",
       " \"If this premise sound stupid, that's because it is.  \",\n",
       " \"Yes, it's that bad.  \",\n",
       " 'Nothing at all to recommend.  ',\n",
       " 'An excellent performance from Ms.  ',\n",
       " \"Garbo, who showed right off the bat that her talents could carry over from the silent era (I wanted to see some of her silent work, but Netflix doesn't seem to be stocking them.  \",\n",
       " \"It's also great to see that renowned silent screenwriter Frances Marion hasn't missed a step going from silent to sound.  \",\n",
       " 'This movie suffered because of the writing, it needed more suspense.  ',\n",
       " 'There were too many close ups.  ',\n",
       " \"But other than that the movie seemed to drag and the heroes didn't really work for their freedom.  \",\n",
       " 'But this movie is definitely a below average rent.  ',\n",
       " '\"You\\'ll love it!  ',\n",
       " 'This movie is BAD.  ',\n",
       " 'So bad.  ',\n",
       " 'The film is way too long.  ',\n",
       " 'This is definitely one of the bad ones.  ',\n",
       " \"The movie I received was a great quality film for it's age.  \",\n",
       " 'John Wayne did an incredible job for being so young in the movie industry.  ',\n",
       " 'His on screen presence shined thought even though there were other senior actors on the screen with him.  ',\n",
       " 'I think that it is a must see older John Wayne film.  ',\n",
       " \"I really don't see how anyone could enjoy this movie.  \",\n",
       " \"I don't think I've ever seen a movie half as boring as this self-indulgent piece of junk.  \",\n",
       " \"It probably would have been better if the director hadn't spent most of the movie showcasing his own art work, which really isn't that noteworthy.  \",\n",
       " \"Another thing I didn't really like is when a character got punched in the face, a gallon of blood would spew forth soon after.  \",\n",
       " 'Jamie Foxx absolutely IS Ray Charles.  ',\n",
       " 'His performance is simply genius.  ',\n",
       " 'He owns the film, just as Spacek owned \"Coal Miner\\'s Daughter\" and Quaid owned \"Great Balls of Fire.  ',\n",
       " '\" In fact, it\\'s hard to remember that the part of Ray Charles is being acted, and not played by the man himself.  ',\n",
       " 'Ray Charles is legendary.  ',\n",
       " \"Ray Charles' life provided excellent biographical material for the film, which goes well beyond being just another movie about a musician.  \",\n",
       " 'Hitchcock is a great director.  ',\n",
       " 'Ironically I mostly find his films a total waste of time to watch.  ',\n",
       " 'Secondly, Hitchcock pretty much perfected the thriller and chase movie.  ',\n",
       " \"It's this pandering to the audience that sabotages most of his films.  \",\n",
       " 'Hence the whole story lacks a certain energy.  ',\n",
       " 'The plot simply rumbles on like a machine, desperately depending on the addition of new scenes.  ',\n",
       " 'There are the usual Hitchcock logic flaws.  ',\n",
       " 'Mishima is extremely uninteresting.  ',\n",
       " 'This is a chilly, unremarkable movie about an author living/working in a chilly abstruse culture.  ',\n",
       " \"The flat reenactments don't hold your attention because they are emotionally adrift and stagy.  \",\n",
       " 'And the rest of it just sits there being awful... with soldiers singing songs about the masculinity they pledge themselves to, hairsplitting about purity, the admiration of swords, etc.  ',\n",
       " 'He can bore you to pieces, and kill the momentum of a movie, quicker than anyone else.  ',\n",
       " 'Schrader has made a resume full of lousy, amateurish films.  ',\n",
       " 'When I first watched this movie, in the 80s, I loved it.  ',\n",
       " 'I was totally fascinated by the music, the dancing... everything.  ',\n",
       " 'However, I recently watched the whole thing again on DVD, and I was completely struck by how extremely stupid the storyline was - how it contained holes, inconsistencies and - frankly - a whole lot of crap - and how horrid the dancing was.  ',\n",
       " 'I mean, in a realistic world, she would NEVER have gotten into that ballet repertory... The whole thing was quite pathetic.  ',\n",
       " 'The character developments also lacked in depth.  ',\n",
       " 'Woa, talk about awful.  ',\n",
       " 'Do not waste your time.  ',\n",
       " 'It was just too horrible.  ',\n",
       " 'The worst, sappiest dialogue... I could go on and on.  ',\n",
       " 'But what really made it unwatchable was the direction.  ',\n",
       " 'The poor actors.  ',\n",
       " \"You can't even tell if they have any talent because they not only have pathetic lines to speak but the director gave them no action.  \",\n",
       " \"If you check the director's filmography on this site you will see why this film didn't have a chance.  \",\n",
       " 'This would not even be good as a made for TV flick.  ',\n",
       " 'If good intentions made a film great, then this film might be one of the greatest films ever made.  ',\n",
       " 'The film has great actors, a master director, a significant theme--at least a would-be significant theme, undertone of fifties existential world-weariness, aerial scenes that ought to have thrilled both senses and imagination, and characters about which one might deeply care.  ',\n",
       " 'Regrettably, the film fails.  ',\n",
       " 'The movie lacks visual interest, drama, expression of feeling, and celebration of the very patriotism that underlines the narrative.  ',\n",
       " 'No actress has been worse used that June Allison in this movie.  ',\n",
       " 'Yet, I enjoy watching it.  ',\n",
       " 'Unfortunately, this is a bad movie that is just plain bad.  ',\n",
       " 'Bad script, bad direction and horrible acting make this one plain bad!  ',\n",
       " 'The dialogue sucked.  ',\n",
       " 'The cinematography-if it can be called that-sucked.  ',\n",
       " 'The soundtrack sucked.  ',\n",
       " 'The acting sucked.  ',\n",
       " 'The concert sequences just sucked.  ',\n",
       " 'That was nice.  ',\n",
       " 'That was funny.  ',\n",
       " 'It was so funny.  ',\n",
       " 'Overall, this movie was cheap trash.  ',\n",
       " 'But this movie is not funny, considering the ridiculousness of it.  ',\n",
       " 'I came out of it feeling angry.  ',\n",
       " \"***SPOILERS*** Whatever else can (or can't) be said about it, SURFACE is superbly crafted.  \",\n",
       " 'The cinematography is simply stunning (to say the least) and the fx are nothing if not state-of-the-art.  ',\n",
       " 'Conceptually, the show offers a little bit of everything- and for just about everybody (parents, kids, fantasy and/or fx fans).  ',\n",
       " \"And there wasn't a single sour note struck acting-wise, either; some surprisingly solid casting, here.  \",\n",
       " 'All things considered, a job very well done.  ',\n",
       " 'Thanks good a movie like this was done and released.  ',\n",
       " 'One of the best mexican movies ever!, and one of the less understood, even by mexican themselves, no matter how identified the should have felt with it.  ',\n",
       " 'It ranks highly as a great noir-crime-drama, incredible performances by Belmondo and Lino Ventura.  ',\n",
       " 'The attention given to every character, and complex psychological portrayals, detailing loyalty, treachery, love, and hope, are tremendous.  ',\n",
       " 'It is an excellent drama, an excellent thriller, and an excellent film.  ',\n",
       " 'Up there with the best of Melville.  ',\n",
       " 'Everything about this film is simply incredible.  ',\n",
       " 'You truly take this journey through the eyes and soul of a child.  ',\n",
       " \"BLACK WATER is a thriller that manages to completely transcend it's limitations (it's an indie flick) by continually subverting expectations to emerge as an intense experience.  \",\n",
       " \"The performances are real and gripping, the crocdodile is extremely well done, indeed if the Black Water website is to be believed that's because they used real crocs and the swamp location is fabulous.  \",\n",
       " 'I thoroughly enjoyed it when Christopher Eccleston took control of the TARDIS and the continuation of the series.  ',\n",
       " \"I'm not sure what he was trying to do with this film.  \",\n",
       " 'If it was to turn my good day feeling into a night of disturbing memories than I guess he succeeded.  ',\n",
       " 'There is a lot of beautiful places.  ',\n",
       " 'It was forced, like everything in this movie.  ',\n",
       " 'Again, lame.  ',\n",
       " \"Here's where the movie really pi**ed me off.  \",\n",
       " \"And don't even get me started on the jerky camerawork.  \",\n",
       " 'When I saw it in the theater I thought I was going to be sick.  ',\n",
       " \"Summary: The witticisms weren't witty.  \",\n",
       " \"The plot - well, I said I'd let that one go.  \",\n",
       " 'The acting was bad.  ',\n",
       " 'Really bad.  ',\n",
       " \"Even Billy Bob couldn't rise above the script, which was worse.  \",\n",
       " 'Camerawork - again, bad.  ',\n",
       " 'Rating: 1 out of 10.  ',\n",
       " 'An AMAZING finale to possibly the BEST trilogy of all time!  ',\n",
       " 'Kieslowski never ceases to amaze me.  ',\n",
       " 'He is one of my favourite directors, and one of the most talented directors in the history of cinema.  ',\n",
       " 'His use of the colours of the French flag in the three films was nothing short of incredible, every shot, every scene was like a work of art.  ',\n",
       " \"Three of the most visually appealing movies i've ever seen.  \",\n",
       " 'And his subtle connections between the three films are awesome.  ',\n",
       " 'I have to mention this and it is a huge SPOILER, i loved the ending, how all the characters of the three films were the remaining survivors of the ferry disaster, with Valentine and the young judge together, and the old man watching it on her TV, solidifying his happiness over the suffering which he dealt with for those many years.  ',\n",
       " \"I couldn't think of a better way to end the film, but a smile on my face, great way to wrap up an amazing film and trilogy!  \",\n",
       " 'I recommend this for EVERYONE who loves film, movies, anything...A Work of Art!  ',\n",
       " '10 out of 10 for both the movie and trilogy.  ',\n",
       " 'I literally vomited while watching this film.  ',\n",
       " \"I think i was one of the people who found this another one of roth's pearls.  \",\n",
       " 'his performance, as awarded, was stunning.  ',\n",
       " 'the story which was told so eloquently by Francis ford Coppola 25 years earlier, really unfolds gradually and leaves room for the characters to develop.  ',\n",
       " 'In a most wonderful location lies a story of contrast.  ',\n",
       " \"All in all a beautiful directed film from Nicola's roeg wih a sublime cast.  \",\n",
       " \"I'm translating movies for a living and this is the first movie in my 5-year working experience that I found offensive to my intelligence.  \",\n",
       " 'But when someone strives for greatness and poetry, but delivers a muddled (and often ridiculous) story, a bunch of disparate scenes, pretentious dialogue... Then you get the worst kind of a movie that some other reviewer very accurately defined as \"pretentious crap\".  ',\n",
       " \"To those who find this movie intelligent or even masterful, I can only say - it's your intelligence and your imagination you obviously used to try and make some sense of this pitiful attempt (it's in our human nature to try and make sense of things) .  \",\n",
       " \"One more thing: I can tolerate political incorrectness very well, I'm all for artistic freedom and suspension of disbelief, but the Slavic female character was just too much.  \",\n",
       " 'This is such a fun and funny movie.  ',\n",
       " 'Highly entertaining at all angles.  ',\n",
       " 'It features an outlandish array of memorable, psychotic but lovable nuts.  ',\n",
       " 'So for our enjoyment we get to see them run around, play games, and be dangerous.  ',\n",
       " 'It even has its sweet moments.  ',\n",
       " 'The telephone repair man was really funny and his reactions to the nuts and bitchy boss were truly genuine.  ',\n",
       " 'All the characters in this film are tremendously well played.  ',\n",
       " 'And I really did find them funny.  ',\n",
       " 'This is actually a very smart movie.  ',\n",
       " 'There is a brilliant twist ending.  ',\n",
       " '\" I love it.  ',\n",
       " \"The ending is so, SO perfect... you'll shed a tear.  \",\n",
       " 'I am so thrilled after seeing a movie like this.  ',\n",
       " 'I will never forget it now.  ',\n",
       " 'It is not just a cult... it is a cult CLASSIC.  ',\n",
       " 'Which has more depth and character than the man underneath it.  ',\n",
       " 'The Malta settings are as dry and as barren as the dialogue.  ',\n",
       " 'This movie is terrible.  ',\n",
       " \"The hockey scenes are terrible, defensemen playing like they're 5 years old, goalies diving at shots that are 10 feet wide of the net, etc.  \",\n",
       " \"For those that haven't seen it, don't waste your time!  \",\n",
       " 'To call this movie a drama is ridiculous!  ',\n",
       " \"Started watching this but didn't believe in any of the characters.  \",\n",
       " \"In particular the relationship between the bakery assistant and the waitress just didn't work for me at all.  \",\n",
       " 'It was a very superficial movie and it gave me the feeling that I was watching play rather than a film.  ',\n",
       " \"The characters were very 'stagey' and the storyline was a lot like a stage farce.  \",\n",
       " \"By the time the pyromaniac waylaid the assistant I was bored and didn't care what happened next and so I switched off.  \",\n",
       " \"Glad I didn't pay to see it.  \",\n",
       " \"Didn't laugh or even smile once.  \",\n",
       " \"But it wasn't anything at all just one big yawn...  \",\n",
       " 'It is a really good show to watch.  ',\n",
       " 'It is very educational for children 1 to 8 years old.  ',\n",
       " 'Barney is definitely super DE duper.  ',\n",
       " 'is pretty funny.  ',\n",
       " 'Babie Bop is very cute.  ',\n",
       " 'The kids are very cool too.  ',\n",
       " '\" But \"Storm Trooper\" is not even bad enough to make it to the list of wonderfully terrible movies.  ',\n",
       " \"It's just lame.  \",\n",
       " \"The guy who said he's had better dialogue with his potted plants has it right.  \",\n",
       " 'Everything about this movie is stupid.  ',\n",
       " 'Even if you love bad movies, do not watch this movie.  ',\n",
       " 'It is shameful.  ',\n",
       " 'I would give this television series a 10 plus if i could.  ',\n",
       " 'The writers were \"smack on\" and I think the best actors and actresses were a bonus to the show.These characters were so real.  ',\n",
       " 'I must say I have taped most of the episodes and i find myself watching them over and over again.  ',\n",
       " 'Now you know why I gave it a 10+!  ',\n",
       " \"I don't know exactly what it is about this movie, but we latched on to this endearing movie and it has become a special part of our family's memories.  \",\n",
       " 'I totally and absolutely recommend this movie to anyone who likes good wholesome family movies because that is exactly what this is.  ',\n",
       " 'The things that the four kids get themselves into is absolutely hilarious to watch.  ',\n",
       " 'This is one of the best movies out there that shows such strong sibling bond for each other.  ',\n",
       " 'Much more interesting, more action, more suspense, and less of the unneeded controversy.  ',\n",
       " 'Everything from acting to cinematography was solid.  ',\n",
       " 'Definitely worth checking out.  ',\n",
       " 'Damian is so talented and versatile in so many ways of writing and portraying different Characters on screen.  ',\n",
       " 'This movie has a cutting edge to it.  ',\n",
       " 'I am so pleased to know such a modern day genius is out there , letting is passion for Art drive him and taking us as an audience with him.  ',\n",
       " \"The new characters weren't all that memorable, and I found myself forgetting who was who.  \",\n",
       " 'I felt as though her going to Ireland did absolutely nothing whatsoever.  ',\n",
       " \"It didn't make me scared, horrified, or make me sympathetic towards the characters; it was simply annoying.  \",\n",
       " 'The jerky camera movements were also annoying.  ',\n",
       " 'The plot was the same as pretty much every other cheap horror.  ',\n",
       " \"There was a few pathetic attempts to give the characters some depth, but it didn't really work into the rest of the plot.  \",\n",
       " 'I guess it was supposed to be clever twist, then shed some light on the situation, but it was just stupid.  ',\n",
       " 'If you see it, you should probably just leave it on the shelf.  ',\n",
       " 'Elias Koteas,Jack Palance play good roles Angelina is hot and gets naked.Billy Drago appears in this and is cool as usual + a cameo by Sven ole Thorsen helps make this a very enjoyable movie with good acting and a decent budget.  ',\n",
       " 'This was such an awesome movie that i bought it off of Ebay.  ',\n",
       " 'I really loved the story line and the poler bear was kinda cute.But if anyone has a question about Fort Steele, just ask away:)  ',\n",
       " 'This totally UNfunny movie is so over the top and pathetic and unrealistic that throughout the whole 90 minutes of utter torture I probably looked at my watch about 70000 times!  ',\n",
       " 'Lucy Bell is so much higher than this crap and for her to sink this low is quite depressing.  ',\n",
       " 'All this movie does is make you sick watching all these slackers make excuses for their stupid actions for 90 minutes.  ',\n",
       " 'God, and I can never get that 90 minutes back!  ',\n",
       " 'I think the most wonderful parts (literally, full of \"wonder\") are the excerpts from his works.  ',\n",
       " 'The sets (especially designed to work with the camera) are amazing....stylized, beautiful and effective.  ',\n",
       " 'They could be used as exemplars for any set designer.  ',\n",
       " 'The stories were powerful explorations of the nature of man and of art.  ',\n",
       " 'After watching this film, I wanted to learn more about the works of this artist.  ',\n",
       " 'I highly recommend this movie for anyone interested in art, poetry, theater, politics, or Japanese history.  ',\n",
       " \"Here, in The Wind and the Lion, we see a wonderful rendering of America's own Imperial age.  \",\n",
       " ') What makes this story different are the terrific production values - faultless photography, composition and editing - the terrific casting - the underappreciated Brian Keith playing a bully Teddy - and vivid history.  ',\n",
       " 'Though The Wind and the Lion is told largely through the eyes of the son, every member of the family can identify with one of the characters, whether it be Sean Connery\\'s noble brigand, Candace Bergen\\'s feisty heroine, John Huston\\'s wily John Hay or Steve Kanaly\\'s spiffy, radiant, ruthless can-do lieutenant, Roosevelt\\'s \"Big Stick\".  ',\n",
       " 'This is high adventure at its best.  ',\n",
       " 'I think it was Robert Ryans best film, because he portrayed someone like my father, and he was a schizophrenic in real life,(my father) although he never murdered anyone but was affected more so during the second world war which made him worse.  ',\n",
       " 'Having to humour him just to get by and get through the day was so apt.  ',\n",
       " '(My mother and brother had to do this)When I saw Robert Ryan portraying this type of man, it was a very good imitation of this type of individual, and I was impressed.  ',\n",
       " 'Almost all of the songs in Cover Girl are old-fashioned and not very tuneful.  ',\n",
       " \"The most annoying thing about 'Cover Girl' is the way in which Rita Hayworth is put up on a pedestal.  \",\n",
       " \"Unfortunately, 'Cover Girl' is an example of how Hollywood used to exploit women for financial gain.  \",\n",
       " 'Non-linear narration thus many flashbacks and every part are articulated quite well.  ',\n",
       " 'The good cinematography also makes her and Monica Bellucci look very beautiful.  ',\n",
       " \"A good commentary of today's love and undoubtedly a film worth seeing.  \",\n",
       " 'For people who are first timers in film making, I think they did an excellent job!!  ',\n",
       " 'It was very popular when I was in the cinema, a good house and very good reactions and plenty of laughs.  ',\n",
       " \"It's a feel-good film and that's how I felt when I came out of the cinema!  \",\n",
       " 'It has northern humour and positive about the community it represents.  ',\n",
       " 'I rather enjoyed it.  ',\n",
       " 'I liked it.  ',\n",
       " \"I couldn't take them seriously.  \",\n",
       " 'It really created a unique feeling though.  ',\n",
       " 'Vivian Schilling did an excellent job with the script.  ',\n",
       " 'A world better than 95% of the garbage in the theatres today.  ',\n",
       " 'Her role was played well.  ',\n",
       " 'Not too screamy not to masculine but just right.  ',\n",
       " 'The camera really likes her in this movie.  ',\n",
       " 'I would have casted her in that role after ready the script.  ',\n",
       " \"As a European, the movie is a nice throwback to my time as a student in the 1980's and the experiences I had living abroad and interacting with other nationalities, although the circumstances were slightly different.  \",\n",
       " 'I am a fan of his ... This movie sucked really bad.  ',\n",
       " 'Even worse than Ticker!  ',\n",
       " '& That movie was bad.  ',\n",
       " 'Only like 3 or 4 buildings used, a couple of locations MAYBE, & poor hummh!  ',\n",
       " 'It just blew.  ',\n",
       " \"This movie is excellent!Angel is beautiful and Scamp is adorable!His little yelps when hes scared,and the funniest parts are when:Scamp is caught under the curtain and when Angel and Scamp are singing 'Ive Never Had This Feeling Before'.I totally recommend this movie,its coming out on special edition on June 20.The cover has scamp on a garbage can and Angel underneath the lid.  \",\n",
       " 'I just cant explain this movie more than romantic,charming,hilarious,and adorable.The junkyard scenes are funny,all the junkyard dogs have something special.Too funny i laughed,kids will LOVE it.Buy it when it comes out,it has new features!  ',\n",
       " 'Now we were chosen to be tortured with this disgusting piece of blatant American propaganda.  ',\n",
       " 'This show is made for Americans - it is too stupid and full with hatred and clichÃ©s to be admitted elsewhere.  ',\n",
       " 'Almost everyone involved must be return to school, acting is utterly predictable and bad, script is pile of garbage all round.  ',\n",
       " 'I wish I could enter negative values, admins?  ',\n",
       " \"The sets are so bad, they wouldn't look out of place on a Thunderbirds episode.  \",\n",
       " 'The use of slow-motion needlessly repeats itself throughout the movie but is well backed up by bad acting (and bad is a kind word here), no continuity, scenes that are thrown in for no reason whatsoever, vehicles that looked like they were made from a Corn Flakes box and a directorial style that bordered on stupidity.  ',\n",
       " 'Oh yeah, and the storyline was pathetic too.  ',\n",
       " \"I hate writing bad reviews about films - especially those in which I really like the star - but this film is so bad I don't believe for one second that anyone could have been proud of it.  \",\n",
       " \"I am not a filmmaker nor am I a director but I would hide my head in the sand if I'd spent whatever amount of money and time on this movie.  \",\n",
       " 'In short - this was a monumental waste of time and energy and I would not recommend anyone to EVER see this film.  ',\n",
       " 'It came free with a DVD player I bought but I still turned the thing off halfway through because I was embarrassed for Howell.  ',\n",
       " '1/10 - and only because there is no setting for 0/10.  ',\n",
       " \"An interesting premise, and Billy Drago is always good as a dangerous nut-bag (side note: I'd love to see Drago, Stephen McHattie and Lance Hendrikson in a flick together; talk about raging cheekbones!).  \",\n",
       " \"The soundtrack wasn't terrible, either.  \",\n",
       " 'But the acting--even that of such professionals as Drago and Debbie Rochon--was terrible, the directing worse (perhaps contributory to the former), the dialog chimp-like, and the camera work, barely tolerable.  ',\n",
       " 'Still, it was the SETS that got a big \"10\" on my \"oy-vey\" scale.  ',\n",
       " 'Yes, I am simplifying things here for the sake of brevity, for this really is at the core of the problems with this film - it has too much going on without any real, fulfilling explanation.  ',\n",
       " 'Both do good jobs and are quite amusing.  ',\n",
       " \"But the convoluted plot just didn't convince me, and much of the film was watched with a weird, questioning glance.  \",\n",
       " 'I let my girlfriend talk me into seeing this - bad idea, we both hated it.  ',\n",
       " 'The last 15 minutes of movie are also not bad as well.  ',\n",
       " 'Bela Lugosi was totally extraneous, intoning odd lines.  ',\n",
       " 'The acting was decidely wooden, though no worse than a period Universal B movie.  ',\n",
       " \"I like Armand Assante & my cable company's summary sounded interesting, so I watched it, twice already, and probably will again.  \",\n",
       " 'I believe the screenwriter did a good job of tying up the loose ends.  ',\n",
       " 'My 8/10 score is mostly for the plot.  ',\n",
       " \"I won't say any more - I don't like spoilers, so I don't want to be one, but I believe this film is worth your time.  \",\n",
       " 'Wow, what a bad film.  ',\n",
       " 'Not frightening in the least, and barely comprehensible.  ',\n",
       " \"The plot doesn't hang together at all, and the acting is absolutely appalling.  \",\n",
       " 'Not even good for camp value!  ',\n",
       " \"I wasn't expecting Oscar material, but this?  \",\n",
       " \"You'd have to have the IQ of particularly stupid mollusk not to see that one coming.  \",\n",
       " 'This film (and I use that word loosely) is an insult to the movie-going public.  ',\n",
       " 'If only someone involved with it knew how to string together narrative!  ',\n",
       " \"This gets a 1 out of 10, simply because there's nothing lower.  \",\n",
       " 'This is one I did not have, but I watched it recently on Fox Movie Channel, and was very disappointed.  ',\n",
       " 'I know he was a contract player with little control over his scripts, but the acting was as bad as the script.  ',\n",
       " 'Victor McLaglen was even bad, and Brian DonLevy was almost unrecognizable.  ',\n",
       " 'Considering the relations off screen between Taylor and Stanwyck, it was surprising how little chemistry there was on screen between the two of them.  ',\n",
       " 'But the premise of the film was so ridiculous: that the President of the U.S.  ',\n",
       " 'The death row scenes were entirely unmoving.  ',\n",
       " \"The only thing worse than Taylor's acting was Stanwyck's singing.  \",\n",
       " 'Whatever the producer was going for, he missed entirely.  ',\n",
       " 'I was deeply impressed with the character he played.  ',\n",
       " 'I knew when I saw the film that more great things were to come from this gifted actor.  ',\n",
       " 'A cheap and cheerless heist movie with poor characterisation, lots of underbite style stoic emoting (think Chow Yun Fat in A Better Tomorrow) and some cheesy clichÃ©s thrown into an abandoned factory ready for a few poorly executed flying judo rolls a la John Woo.  ',\n",
       " 'Even the squibs look awful.  ',\n",
       " 'At no point in the proceedings does it look remotely like America.  ',\n",
       " 'The plot, such as it is, is so derivative and predictable that the ending is like a mercy killing.  ',\n",
       " 'The awful dialogue and hopeless overacting by everyone who gets shot top off a real waste of space and time.  ',\n",
       " 'I was very uneasy with how bad this movie was, but not scared at all.  ',\n",
       " 'The dialogue is composed of things that make little sense.  ',\n",
       " 'About 30 minutes of footage is wasted to show mediocre elderly actors awkwardly babbling overwrought pseudo-Satanic gibberish corny enough to make a teen Goth blush, almost always in Olde English, and sometimes in Latin that may or may not be made up words.  ',\n",
       " 'The directing is sloppy at best.  ',\n",
       " 'Hackneyed writing, certainly, but made even worse by the bad directing.  ',\n",
       " 'Of course, the acting is blah.  ',\n",
       " 'The acting by the whole cast could be put on a scale and balanced perfectly between overacting and underacting.  ',\n",
       " \"And, FINALLY, after all that, we get to an ending that would've been great had it been handled by competent people and not Jerry Falwell.  \",\n",
       " \"I loved this movie it was a great portrayal of a family who had it's share of ups and down, but in the end they knew that special love they had for each other.  \",\n",
       " 'I have seen many movies starring Jaclyn Smith, but my god this was one of her best, though it came out 12 years ago.  ',\n",
       " \"This movie contained an all-star cast, and what I loved the most was that it opened my eyes to see other actors who I haven't seen before.  \",\n",
       " 'This movie was kind of long in length, but I enjoyed every minute of it.  ',\n",
       " 'Overall I rate this movie a 10 out of a 1-10 scale.  ',\n",
       " 'Lifetime does not air it enough, so if anyone knows what store sells it let me know because this is a must-have.  ',\n",
       " 'I particularly remember my senses being assaulted by strident cords of music that would blare out with very little warning, and even less meaning.  ',\n",
       " 'It is just the sort of pap that is screened in the afternoon to punish the unemployed for not having jobs.  ',\n",
       " 'Totally different, with loads of understatement and black comedy, this is a film few get to see, but those who do will remember it.  ',\n",
       " 'This movie creates its own universe, and is fascinating in every way.  ',\n",
       " 'But this movie really got to me.  ',\n",
       " 'See it.  ',\n",
       " 'I really hope the team behind this movie makes more movies, and that they will continue to do so in their own, some kinda weird style.  ',\n",
       " \"And I forgot: The Casting here i superb, with Trond Fausa AurvÃ¥g being perfect in the role as the Bothersome Man, who doesn't understand where he is, what he is doing and why.  \",\n",
       " 'This movie is a good and humorous comment on life in 2006.  ',\n",
       " 'I found this move beautiful, enjoyable, and uplifting.  ',\n",
       " 'Initially the local sites in the film, which was filmed here in Buffalo, intrigued me.  ',\n",
       " 'Later I found myself lost in the power of the film.  ',\n",
       " 'The entire audience applauded at the conclusion of the film.  ',\n",
       " 'I left the theater with a lilt in my step, joy in my heart and hope for the human race.  ',\n",
       " 'Duris has a wholesome appearance and gives a fine performance.  ',\n",
       " 'The rest of the cast also play well.  ',\n",
       " 'Cinematography noteworthy including fine views of Barcelona and its famed Gaudi towers.  ',\n",
       " 'About ten minutes into this film I started having second thoughts.  ',\n",
       " 'About half way through this film I started to dislike it.  ',\n",
       " 'By the time the film ended, I not only disliked it, I despised it.  ',\n",
       " 'What this film lacks is a convincing script.  ',\n",
       " 'The script looks as if only a rough draft was written and shooting began before a finished script was completed.  ',\n",
       " 'Things happen, characters personalities change, plot twists occur for no real reason other than that script calls for it.  ',\n",
       " 'The cast is good.  ',\n",
       " \"For that, it's worth checking out.  \",\n",
       " 'This is probably the most irritating show I have ever seen in my entire life.  ',\n",
       " 'It is indescribably the most annoying and idiotic show I have ever seen.  ',\n",
       " 'Everything about it is just bad.  ',\n",
       " 'I could not understand, what kind of idiot would produce this mess in the first place not to mention several season.  ',\n",
       " 'The script is bad, very bad Â– it contains both cheesiness and unethical joke that you normally see in rated R or NC-17 movie.  ',\n",
       " 'The casting is also horrible, cause all you see is a really really BAD Actors, period.  ',\n",
       " 'Final Word: This Show is a real torture!!  ',\n",
       " 'It is zillion times away from reality.  ',\n",
       " \"Watching washing machine twirling around wouldn't hurt your eyes as much as this show.  \",\n",
       " 'Rating: 0/10 (Grade: Z) Note: The Show Is So Bad That Even Mother Of The Cast Pull Her Daughter Out Of The Show.  ',\n",
       " \"20th Century Fox's ROAD HOUSE 1948) is not only quite a silly noir but is an implausible unmitigated bore of a movie.  \",\n",
       " 'Full of unconvincing cardboard characters it is blandly written by Edward Chodorov, who also produced, and is surprisingly directed by Jean Negulesco from whom one would expect a great deal more.  ',\n",
       " 'From here on the Widmark character turns unintentionally comical!  ',\n",
       " 'His losing his marbles so early in the proceedings is totally implausible and unconvincing.  ',\n",
       " \"And if that isn't enough of a mess of a movie for you - the picture is also marred with a constant use of studio sets and indoor exteriors.  \",\n",
       " 'Whatever prompted such a documentary is beyond me!  ',\n",
       " '(very serious spoilers) this movie was a huge disappointment.  ',\n",
       " 'there are so many problems i dont know where to start.  ',\n",
       " 'the cast was great.  ',\n",
       " 'steve martin delivers a really funny performance of a middle-aged, upper class, uptight white guy.  ',\n",
       " 'add betty white and jean smart and you have a great cast - everyone played their parts really well.  ',\n",
       " 'but the movie makes a lot of serious mistakes.  ',\n",
       " 'first of all, there are enough racial stereotypes and racial jokes to offend everyone.  ',\n",
       " 'the movie is littered with overt racial slurs towards the black cast members and in return the whites are depicted as morons and boobs.  ',\n",
       " \"putting the race card aside, lets look at the major flaw in the film: they destroy latifa's character.  \",\n",
       " 'there is no real plot.  ',\n",
       " 'i wouldnt see this movie again for free.  ',\n",
       " 'STEAMBOAT WILLIE is an amazingly important film to our cinema history.  ',\n",
       " 'This second appearance of Mickey Mouse (following the silent PLANE CRAZY earlier that year) is probably his most famous film--mostly because it was so ground-breaking.  ',\n",
       " \"While you don't yet hear Mickey speak, there are tons of sound effects and music throughout the film--something we take for granted now but which was a huge crowd pleaser in 1928.  \",\n",
       " 'However, after seeing the short again after about 25 years, I was amazed at how timeless the film actually is.  ',\n",
       " 'It\\'s just adorable seeing Mickey playing \"Turkey in the Straw\" in a highly imaginative (if occasionally cruel) way.  ',\n",
       " \"Clever and a real crowd-pleaser--this film still ranks among Mickey's best films even after 80 wonderful years.  \",\n",
       " \"The bipolarity of the ruthless thug (one minute a ruthless killer, the next minute a Luv's diaper commercial) is completely unconvincing.  \",\n",
       " \"I'm terribly disappointed that this film would receive so many awards and accolades, especially when there are far more deserving works of film out there.  \",\n",
       " 'The original Body and Soul (1947) is a masterpiece.  ',\n",
       " 'John Garfield, Ann revere, Lilli Plmer, William Conrad, Canada Lee...and filmed by one of the greatest cinematographers to ever grace the screen..James Wong Howe.  ',\n",
       " \"I don't think there are any redeeming qualities in this remake.  \",\n",
       " 'This may be the only bad film he ever made.  ',\n",
       " \"So bad...well...it's just bad.  \",\n",
       " 'This movie is a solid example of a bad plot and a very, very bad idea all the way.  ',\n",
       " \"It's a shame to see good actors like Thomerson and James make a living in a mess like this.  \",\n",
       " 'I thought it was bad.  ',\n",
       " 'Both films are terrible, but to the credit of the 1986 version, it was watchable.  ',\n",
       " \"Let's start with all the problemsÂ—the acting, especially from the lead professor, was very, very bad.  \",\n",
       " 'The script is a big flawed mess.  ',\n",
       " \"The best example of how dumb the writing is when it's established that you can turn the zombie-students back into humans by removing a necklace containing a piece of the meteorite.  \",\n",
       " 'Director Paul Matthews, who also wrote/directed the weak 1995 monster movie \"Grim\", clearly doesn\\'t know how to pace his films.  ',\n",
       " 'The movie is terribly boring in places.  ',\n",
       " 'The lighting is awful.  ',\n",
       " 'The film looks cheap and bland.  ',\n",
       " 'One of the most disappointing aspects is the lack of notable gore.  ',\n",
       " \"This convention never worked well in the past, and certainly doesn't work here.  \",\n",
       " 'The visual effects were AWFUL.  ',\n",
       " \"The CG opening sequence in space looked like it could have been created on Microsoft Slideshow for God's sake!  \",\n",
       " 'The \"explosion\" of the Gas tanks at the end was just as awful.  ',\n",
       " \"Okay, I like to consider myself a fair critic, so I'll give credit where credit's due--the creature effects were actually pretty cool.  \",\n",
       " 'Gotta love those close-ups of slimy, drooling teeth!  ',\n",
       " 'To sum the film up, \"Breeders\" is a terrible, cheaply made horror movie that should be avoided like the Ebola virus.  ',\n",
       " 'Not recommended.  ',\n",
       " 'He is almost unbearable to watch on screen, he has little to no charisma, and terrible comedic timing.  ',\n",
       " \"Aside from it's terrible lead, this film has loads of other debits.  \",\n",
       " \"I understand that it's supposed to be a cheap popcorn comedy, but that doesn't mean that it has to completely insult our intelligence, and have writing so incredibly hackneyed that it borders on offensive.  \",\n",
       " \"Lewis Black's considerable talent is wasted here too, as he is at his most incendiary when he is unrestrained, which the PG-13 rating certainly won't allow.  \",\n",
       " \"The film's sole bright spot was Jonah Hill (who will look almost unrecognizable to fans of the recent Superbad due to the amount of weight he lost in the interim).  \",\n",
       " 'With the originality and freshness of the first movie now spent, this remake had little else to offer.  ',\n",
       " 'The budget was evidently very limited.  ',\n",
       " 'This was reflected not only in the cast, but also in the below-par script, which borrowed much from the earlier classic.  ',\n",
       " 'However, here there was no decent acting, action or location work to balance things up.  ',\n",
       " 'Filmiing was less expansive.  ',\n",
       " 'It failed to convey the broad sweep of landscapes that were a great part of the original.  ',\n",
       " 'Generally; it just lacked imagination.  ',\n",
       " 'Not recommended.  ',\n",
       " 'Is it possible for a movie to get any worse than this?  ',\n",
       " 'There is no plot here to keep you going in the first place.  ',\n",
       " 'Even when the women finally show up, there is no sign of improvement; the most expected things happen and by the time the film is over, you might be far asleep.  ',\n",
       " 'Beware: this is not a trashy cult movie, this is trash -period!  ',\n",
       " \"I can't believe there's even a sequel to this!  \",\n",
       " 'Which is precisely why I am giving it such a bad review!  ',\n",
       " \"Being a 90's child, I truly enjoyed this show and I can proudly say that I enjoyed it big time and even more than the classical WB cartoons.  \",\n",
       " 'But \"Tiny Toons\" kept the 90\\'s vibe and delivered one of the most popular, funny, and underrated cartoons ever created.  ',\n",
       " 'The memories are murky but I can only say that I enjoyed every single episode and product related to the show.  ',\n",
       " 'Easily, none other cartoon made me laugh in a tender way (before getting into dark sitcoms oriented for teenagers).  ',\n",
       " 'The characters were all funny and had the peculiarity of not having a true lead character.  ',\n",
       " 'Every single character was hilarious and deserved to be called a lead.  ',\n",
       " 'Every element of this story was so over the top, excessively phony and contrived that it was painful to sit through.  ',\n",
       " 'Her lines seem to have been WRITTEN by a fifteen year old, though they are trying oh so, so hard to sound like how a fifteen year old would really, um, you know, well... talk.  ',\n",
       " 'Perabo has a nice energy level and is obviously very comfortable in front of a camera.  ',\n",
       " 'There is simply no excuse for something this poorly done.  ',\n",
       " 'I saw this movie and I thought this is a stupid movie.  ',\n",
       " 'What is even more stupid is that who had thought an idea that there should be a volcano in Los Angeles?  ',\n",
       " 'To be honest with you, this is unbelievable nonsense and very foolish.  ',\n",
       " 'In conclusion, I will not bother with this movie because a volcano in Los Angeles is nothing but nonsense.  ',\n",
       " 'The story line is just awful!  ',\n",
       " \"It's just painful!  \",\n",
       " 'And the accents are absolutely abysmal!  ',\n",
       " \"There's also enough hypocrisy in this film to make me vomit.  \",\n",
       " \"Don't waste your time watching this rubbish non-researched film.  \",\n",
       " 'I believe that Pitch Black was done well.  ',\n",
       " \"The characters are interesting and you want to find out more about them the longer the movie goes on, and I think people will be surprised by who does and doesn't make it.  \",\n",
       " 'Go watch it!  ',\n",
       " 'Omit watching this.  ',\n",
       " 'VERY funny!  ',\n",
       " 'My rating: just 3 out of 10.  ',\n",
       " 'The characters are interesting and you really care for them.  ',\n",
       " 'An instant classic, with a great soundtrack and a catchy song during the ending credits.  ',\n",
       " \"Don't miss it.  \",\n",
       " \"This is a masterful piece of film-making, with many themes simmering and occasionally boiling over in this warts and all study of the poet's bohemian, self-indulgent wartime years that span the aerial bombardments of London and the outward tranquillity of a Welsh coastal retreat - the borderlines between friendship, lust and love, dedication to art and experience versus practical concerns, jealousy, rivalry, cowardice and egotism versus heroism and self-sacrifice and more.  \",\n",
       " 'A mature, subtle script that suggests and occasionally brings into dramatic focus the underlying tensions is well served by perfect performances (apart from the odd inappropriate smiling that Keira Knightley is prone to, though perhaps under direction this time as the other characters themselves often mention it).  ',\n",
       " 'But above all the exquisite visual composition of each moment, with inventive and elegant use of close-up, camera angle and lighting, including pointillistic faux home movie footage, is a wonder and joy to behold.  ',\n",
       " \"It's as continuously beautiful to look at as a Bertolucci, but the relationships here are more convincing and the narrative more engaging than some of that master's work.  \",\n",
       " 'The basic premise is wasted since it is sidelined by the inexplicable focus on the documentary crew.  ',\n",
       " 'Regardless, the film fails on most levels.  ',\n",
       " 'Avoid at all costs.  ',\n",
       " 'I saw this film over Christmas, and what a great film it was!  ',\n",
       " 'I thought Errol Flynn was brilliant as Custer and has since become my favourite actor!  ',\n",
       " 'His acting alongside Olivia De Havilland was brilliant and the ending was fantastic!  ',\n",
       " 'I had always known that Errol Flynn was a brilliant actor as he was my dads favourite actor, and I grew up watching his films as a child.  ',\n",
       " \"But it wasn't until I watched this film that I realised how great he actually was.  \",\n",
       " \"I'll give this film 10 out of 10!  \",\n",
       " \"I know that Jim O'Connor was very energetic and that nobody could be as much as him, but George was well dull.  \",\n",
       " \"He really didn't seem to want to be hosting; his voice-overs were monotonous, didn't get involved with the guests.  \",\n",
       " 'Lovely little thriller from Hitchcock, with lots of nice shenanigans surrounding a murdered spy, a kidnapped child, a nasty church, a foreign plot and some random taxidermists.  ',\n",
       " \"Jimmy Stewart is as ever a great hero for Hitchcock, the story rips along to its cool climax at an embassy function, but it lacks the brooding menace of Hitchcock's black and white, low-budget original.  \",\n",
       " \"Nevertheless yet another wonderful film from the great master's stable.  \",\n",
       " 'I have to say that this film was excellently produced and tops the ratings as a typical sci fi film!  ',\n",
       " \"Excellently produced by one of Sci-fi's best producers Scot Vandiver !  \",\n",
       " 'But it is entertaining, nonetheless.  ',\n",
       " \"It's a campy sort of film that's a joy to watch.  \",\n",
       " \"There's barely a boring moment in the film and there are plenty of humorous parts.  \",\n",
       " 'The cast is always entertaining as usual.  ',\n",
       " 'Overall, a delight!  ',\n",
       " \"This movie is so mind-bendingly awful, it couldn't have even been created.  \",\n",
       " 'The film lacks any real scares or tension & some of the medical terminology used throughout is a bit iffy to say the least & I say that as an insulin dependant diabetic myself.  ',\n",
       " 'The least said about the acting the better.  ',\n",
       " 'This movie does an excellent job of revealing the complexity of the task and the incredible challenges facing South Africa.  ',\n",
       " 'I believe every one should see this movie as I think few people outside of South Africa understand its past and what is being attempted in the Truth and Reconciliation process.  ',\n",
       " 'Nothing short of magnificent photography/cinematography in this film.  ',\n",
       " 'The acting is fantastic, the stories are seamlessly woven together, and the dogs are splendid............. A must rent, view, or see.  ',\n",
       " \"Don't be afraid of subtitles........ its worth a little aversion therapy 10/10  \",\n",
       " 'Excellent performance.  ',\n",
       " 'There still are good actors around!  ',\n",
       " 'Also great directing and photography.  ',\n",
       " \"Very true to Shakespear, and a 'must' for all Shakespear fans.  \",\n",
       " 'Macbeth (Jason Connery) moved me to tears with his final monolog (out brief candle, out)He gave the sphere of moral decay and dark forces a human face, which makes it the more interesting.  ',\n",
       " 'Helen Baxendale is a very credible lady Macbeth who can be very cheerfull at times and sometimes she just looks like a naughty girl, but deadly in her taste for blood and evil.  ',\n",
       " 'If you love death and decay, and Shakespears lyrics... this is the one.  ',\n",
       " \"This is a witty and delightful adaptation of the Dr Seuss book, brilliantly animated by UPA's finest and thoroughly deserving of its Academy Award.  \",\n",
       " 'Special mention should be made of the superb music score and sound effects, which are an integral element in helping to make this such a memorable and enjoyable cartoon.  ',\n",
       " 'However Paul Schrader has indeed made a film \"about\" Mishima that is both superb & complex.  ',\n",
       " \"Also notable is John Bailey's fine crisp beautifully colored cinematography and the great production design & costumes by Eiko Ishioka who went on to do the memorable costumes for Coppola's Dracula for which she received a well deserved Oscar.  \",\n",
       " 'Even allowing for poor production values for the time (1971) and the format (some kind of mini-series), this is baaaaaad.  ',\n",
       " 'Unless you\\'re just out to visually \"collect\" all extant films of Austen\\'s work, you can skip this one.  ',\n",
       " \"If you do watch it, however, there are small consolations: The actresses playing Anne's sisters each do a wonderful job with their roles.  \",\n",
       " 'It is not good.  ',\n",
       " 'Speaking of the music, it is unbearably predictably and kitchy.  ',\n",
       " 'Then the film just dropped the ball.  ',\n",
       " 'This is a stunning movie.  ',\n",
       " 'Raw and sublimely moving.  ',\n",
       " \"It felt like a very gripping, intelligent stage play (but without the overly theatrical feeling one actually gets from watching people on a stage) which plays on everyone's terror of a white lie escalating to monstrous consequences.  \",\n",
       " 'All of the main players are mesmerising.  ',\n",
       " \"Tom Wilkinson broke my heart at the end... and everyone else's judging by the amount of fumbling for hankies and hands going up to faces among males and females alike.  \",\n",
       " 'Julian Fellowes has triumphed again.  ',\n",
       " \"He's a national treasure.  \",\n",
       " 'GO AND SEE IT!  ',\n",
       " 'This is an excellent film.  ',\n",
       " 'The aerial scenes were well-done.  ',\n",
       " 'It was also the right balance of war and love.  ',\n",
       " 'The film gives meaning to the phrase, \"Never in the history of human conflict has so much been owed by so many to so few.  ',\n",
       " 'Kris Kristoffersen is good in this movie and really makes a difference.  ',\n",
       " 'A good film by a great director!  ',\n",
       " 'This is definitely one of the better documentaries I have seen looking at family relationships and marriage.  ',\n",
       " \"There are many continuity errors: one other user commented on different cars in the garage, Joe's glasses...the one that got to me the most was the fact Joe's facial hair configuration seemed to change from scene to scene.  \",\n",
       " 'This is just a great movie.  ',\n",
       " '10 out of 10 stars.  ',\n",
       " \"I can't see how this movie can be an inspiration to anyone to come out or overcome fear and rejection.  \",\n",
       " \"It's so bad it's actually worth seeing just for that reason.  \",\n",
       " 'Punishment Park is a brilliant piece of cinema.  ',\n",
       " 'Shot in the Southern California desert using his patent faux documentary style, Watkins creates a film like no other.  ',\n",
       " 'This is one of Peter Watkins most accessible films.  ',\n",
       " 'I advise you to look out for it.  ',\n",
       " 'You wont regret it!  ',\n",
       " 'Highly recommended A+  ',\n",
       " 'Well... Just if you keep thinking how bad it is.  ',\n",
       " \"It's a mediocre, miserable, hollow, laughable and predictable piece of garbage.  \",\n",
       " \"It's a case of 'so bad it is laughable'.  \",\n",
       " ') very bad performance plays Angela Bennett, a computer expert who is at home all the time.  ',\n",
       " 'It is a film about nothing, just a pretext to show ridiculous action scenes.  ',\n",
       " 'How awful she is!  ',\n",
       " 'But she is still a bad actress, repeating her robotic face moves in each of her pictures.  ',\n",
       " 'The results, well, are a shame.  ',\n",
       " 'DELETE this film from your mind!  ',\n",
       " 'One of the worst shows of all time.  ',\n",
       " 'The show would begin with smart ass ed comments to each other that would be totally off the wall and uncalled for.  ',\n",
       " 'The fat computer geek was unbelievable, the bible thumper, the bad-ass girl, who are these actors???  ',\n",
       " 'Never heard of any of them except Cole who was totally unbelievable in the part.  ',\n",
       " 'Every time he opened his mouth you expect to hear, \"you see kids...\" Pulling the plug was a mercy killing for this horrible show.  ',\n",
       " 'The stories were as unbelievable as the actors.  ',\n",
       " 'Lame would be the best way to describe it.  ',\n",
       " \"Stanwyck and Morgan are perfectly cast in what is, in many ways, a modern equivalent of Dickens' Christmas Carol in its sensibility.  \",\n",
       " 'The success of the film depends on the casting of Sydney Greenstreet as the Alexander Yardley character.  ',\n",
       " 'The attractive set used throughout most of the film is an eye-pleasing gem.  ',\n",
       " 'Im big fan of RPG games too, but this movie, its a disgrace to any self-respecting RPGer there is.  ',\n",
       " 'The lines, the cuts, the audio, everything is wrong.  ',\n",
       " 'You can find better movies at youtube.  ',\n",
       " \"Top line: Don't waste your time and money on this one, its as bad as it comes.  \",\n",
       " 'A Lassie movie which should have been \"put to sleep\".... FOREVER.  ',\n",
       " \"That's how I'd describe this painfully dreary time-waster of a film.  \",\n",
       " \"So mediocre in every aspect that it just becomes a dull, uninteresting mess, this is one of the most forgettable movies I've seen.  \",\n",
       " 'It isn\\'t even an achievement as a \"so-bad-it\\'s-good\" or \"so-bad-it\\'s-memorable\" movie.  ',\n",
       " \"It's an empty, hollow shell of a movie.  \",\n",
       " \"Seriously, it's not worth wasting your, or your kid's time on.  \",\n",
       " 'Avoid, avoid, avoid!  ',\n",
       " 'It will drive you barking mad!  ',\n",
       " 'The transfers are very good.  ',\n",
       " 'Very nice and relaxing late night viewing.  ',\n",
       " 'The movie is full of wonderful dancing (hence the title!  ',\n",
       " ') some great music, and terrific scenery.  ',\n",
       " 'It handles some tough issues with dignity and grace, and, of course, has (shocking spoiler here!  ',\n",
       " ') a happy, wonderful, feel good ending!  ',\n",
       " 'The point is the journey, a journey that touches every member of the family.  ',\n",
       " \"It's one of the movies I need to see whenever it comes on TV...never mind the fact that I already have it memorized!  \",\n",
       " 'Nothing new there.  ',\n",
       " 'That was done in the second movie.  ',\n",
       " 'The movie has almost no action scenes in it and very little comedy.  ',\n",
       " 'The plot has more holes than a pair of fishnet stockings and the direction and editing is astonishingly ham fisted.  ',\n",
       " 'What on earth is Irons doing in this film?  ',\n",
       " 'I just saw this film and I recommend it.  ',\n",
       " 'It has a very good plot, it holds your complete attention, the acting is superb, Tom Wilkinson was fantastic and Emily Watson was also very good.  ',\n",
       " 'A very good film indeed, about great and unconditional love.  ',\n",
       " \"Tom Wilkinson's character is a man who is not prepared for the ordeal that is about to begin, but he takes the matter in hand as the story progresses, and this great actor gives a performance that makes you feel the character's anguish and suffering.  \",\n",
       " \"Emily Watson's character is very strong, and she has only to give a quick glance and you understand everything.  \",\n",
       " 'Despite the pans of reviewers, I liked this movie.  ',\n",
       " \"In fact, I liked it better than Interview With a Vampire and I liked this Lestat (Stuart Townsend) better than Cruise's attempt.  \",\n",
       " 'Aailiyah was pretty good as Akasha, in places compelling (her first entrance and mini dance scene).  ',\n",
       " \"I'm a big fan of this series mostly due to Anne Rice's style, sensitivities and treatments.  \",\n",
       " 'I guess I liked the details of his dysfunction--he was believable.  ',\n",
       " 'The football scenes at the end were perplexing.  ',\n",
       " 'But I thought his acting was skilled.  ',\n",
       " 'Meredith M was better than all right.  ',\n",
       " 'A very charming film with wonderful sentiment and heart.  ',\n",
       " \"It is rare when a film-maker takes the time to tell a worthy moral tale with care and love that doesn't fall into the trap of being overly syrupy or over indulgent.  \",\n",
       " 'Nine out of ten for a truly lovely film.  ',\n",
       " 'This early film from future goremeister Lucio Fulci is a very good addition to the giallo sub-genre.  ',\n",
       " \"This is one of the best Italian thrillers of the early 70's.  \",\n",
       " 'A standout scene.  ',\n",
       " 'This scene is very strong and unpleasant.  ',\n",
       " \"Technically, the film is well made with impressive camera-work, solid acting and effective music from Riz Ortolani Â– particularly good is a recurring unaccompanied female vocal that sounds like it's coming from a distant hill.  \",\n",
       " \"It's still wild stuff though and is highly recommended to fans of giallo cinema.  \",\n",
       " 'The movie was very interesting from beginning to the end.  ',\n",
       " \"I liked the way Dustin Hoffman's character was ready to do just about everything to stay with his son.  \",\n",
       " 'This movie is also revealing.  ',\n",
       " 'Personally, I think it shows that people should learn to find a compromise them self without involving other people into issue.  ',\n",
       " 'And it was boring.  ',\n",
       " 'I am so tired of clichÃ©s that is just lazy writing, and here they come in thick and fast.  ',\n",
       " 'PS the only scene in the movie that was cool is when the central character finds her room blown up.  ',\n",
       " \"It's a fresh, subtle, and rather sublime effect.  \",\n",
       " 'An Italian reviewer called this \"a small, great film,\" and that\\'s right.  ',\n",
       " 'All the actors give a wonderful performance, especially Jennifer Rubin as Jamie Harris, who changes from the nervous starlet in the beginning through the strange events she is part of to the cool star.  ',\n",
       " 'You learn a lot about the real inside emotions of people in this movie, and a lot about the movie business itself.  ',\n",
       " 'The movie in movie situations in the beginning and through the game that is played with her by the \"acting coach\" are fascinating.  ',\n",
       " \"Also the music by Mark Snow is possibly the best score I've ever heard.  \",\n",
       " \"You won't forget this movie!  \",\n",
       " 'Why was this film made?  ',\n",
       " 'The film has an ultra-cheap look to it.  ',\n",
       " \"The result is a film that just don't look right.  \",\n",
       " 'None of them are engaging or exciting.  ',\n",
       " \"The plot is nonsense that doesn't interest in the slightest way or have any uniqueness to it.  \",\n",
       " 'The Foreigner is not worth one second of your time.  ',\n",
       " 'I saw it as a child on TV back in 1973, when it was \"The Stranger\" and I loved it.  ',\n",
       " \"But the duet between the astronaut and his doctor at the beginning of the movie is a perfect exchange if one considers that this movie was made well into the Cold War and the astronaut's biggest fear is that he has crashed in the USSR.  \",\n",
       " 'This movie is so awesome!  ',\n",
       " 'I loved it, it was really scary.  ',\n",
       " 'I love the Scream movies and all horror movies and this one ranks way up there.  ',\n",
       " 'If you want a real scare rent this one!  ',\n",
       " '10/10  ',\n",
       " 'This is an extraordinary film.  ',\n",
       " \"As a courtroom drama, it's compelling, as an indictment on the American justice system, it's frightening.  \",\n",
       " \"This film highlights the fundamental flaws of the legal process, that it's not about discovering guilt or innocence, but rather, is about who presents better in court.  \",\n",
       " \"The film is well paced, understated and one of the best courtroom documentaries I've seen.  \",\n",
       " 'This mostly routine fact-based TV drama gets a boost from the fine performance by Cole.  ',\n",
       " 'Predictable, but not a bad watch.  ',\n",
       " 'It was clear that she had the range and ability to pull off this part.  ',\n",
       " 'She carries the movie well.  ',\n",
       " 'Constantine gives everything the right intensity and seems to have a good understanding of the underlying psychological motivations.  ',\n",
       " 'It is wonderful and inspiring to watch, and I hope that it gets released again on to video or DVD.  ',\n",
       " \"How this piece of trash was ever released is beyond me: the acting, the story, the characters, the supposedly special effects, etc...it's ALL wrong.  \",\n",
       " 'In fact, this stinker smells like a direct-to-video release.  ',\n",
       " 'Avoid at ALL costs!  ',\n",
       " 'Star Trek V The final Frontier is the worst in the series.  ',\n",
       " 'The acting from all involved and that includes those like Shatner and Nimoy is bad and washed out and making them seem as old as they look in real life, the special effects are tacky like when Spock has to rescue Kirk on a jet pack when he falls down from a mountain.  ',\n",
       " \"The attempts at humor were pitiful and story is so awful it dosen't bear thinking about which basically involves a Vulcan stealing the Enterprise to find god (seriously) I just didn't care about any of this film and oh not to mention Uhura does a belly dance to distract male guards.  \",\n",
       " 'The only place good for this film is in the garbage.  ',\n",
       " 'The worst one of the series.  ',\n",
       " 'Editing: The editing of this film was phenomenal in my opinion.  ',\n",
       " \"When a song could explain the emotions of the subjects better, such as when Jay Adams' unfortunate life was a subject of talk, the song Old Man by Neil Young was played, which evokes many emotions.  \",\n",
       " 'Cinematography: The film was shot in an interesting way.  ',\n",
       " 'Of course the footage from the 70s was grainy, but that only enhanced the film.  ',\n",
       " 'This film offers many delights and surprises.  ',\n",
       " 'When Achille and Philippa beautifully sing a duet from \"Don Giovanni\" that perfectly describes their situation in the movie, you appreciate the subtle layers of this excellent film.  ',\n",
       " 'The story unfolds in 18th century Jutland and the use of period music played on period instruments is just one more fine touch.  ',\n",
       " \"You share General Loewenhielm's exquisite joy in his partaking of the Cailles en Sarcophage even though you are just watching a movie - but you do wish for just a small sample to savor.  \",\n",
       " 'But this understated film leaves a lasting impression.  ',\n",
       " 'The warmth it generates is in contrast to its austere backdrop.  ',\n",
       " 'You will leave the theater wanting to go out and dance under the stars.  ',\n",
       " \"The acting, as you'd expect from this cast, is top notch.  \",\n",
       " 'The characters are fleshed out surprisingly well, particularly Grimes and Blake, and all the actors deliver their sharply scripted lines with just the right amount of deadpan tongue in cheek to make the dialogue both hilarious and realistic.  ',\n",
       " 'Angus Scrimm also turns in a good performance in a somewhat brief but memorable role as the gently menacing, violin-playing anatomist Doctor Quinn.  ',\n",
       " 'Conclusion - I loved it.  ',\n",
       " \"It's a long time since I was so entertained by a movie.  \",\n",
       " 'I struggle to find anything bad to say about it.  ',\n",
       " 'Mark my words, this is one of those cult films like Evil Dead 2 or Phantasm that people will still be discovering and falling in love with 20, 30, 40 years down the line.  ',\n",
       " \"It's pretty surprising that this wonderful film was made in 1949, as Hollywood generally had its collective heads in the sand concerning black and white issues at that time.  \",\n",
       " \"The film deserves strong kudos for taking this stand, for having exceptional acting from its mostly lesser-known cast and for the super-intelligent script that doesn't insult the audience or take the easy way out when it comes to white racism.  \",\n",
       " \"Plus, with the movie's rather modest budget and fast running time, it does an amazing job!  \",\n",
       " 'Juano Hernandez (an exceptional actor who played supporting roles in many films of the era) is a proud black man who is accused of murdering a white man in the South.  ',\n",
       " 'Trumbull on I LOVE LUCY).  ',\n",
       " 'See it with your kids if you have a chance--it will open up some amazing dialog about how far race relations have come in the last 50 years.  ',\n",
       " 'See both films if you can.  ',\n",
       " 'It was that year, however, that reminded us that Huston was still at the top of his game as evinced by his faithful adaptation of James Joyce\\'s acclaimed novella \"The Dead.  ',\n",
       " \"Feelings, thoughts...Gabriel's discomfort during the dance...all these intangibles leap to life and come within the viewer's grasp in Huston's portrayal.  \",\n",
       " 'Very disappointed and wondered how it could be in the Oscar shortlist.  ',\n",
       " \"It's very slow.  \",\n",
       " \"Lot of holes in the plot: there's nothing about how he became the emperor; nothing about where he spend 20 years between his childhood and mature age.  \",\n",
       " \") Don't waste your time.  \",\n",
       " \"End of Days is one of the worst big-budget action movies I've ever seen.  \",\n",
       " \"He surely doesn't know how to make a coherent action movie from the screenwriter of Air Force One who was only obliged to write the script just for a big sum of money.  \",\n",
       " 'This was one of the worst films i have ever seen.  ',\n",
       " \"I'm still trying to get over how bad it was.  \",\n",
       " 'This movie is possibly one of the most creative works of horror ever.  ',\n",
       " \"It has everything you could want... suspense, drama, comedy, confusing subplots, native americans, brain eating... If you're looking for the be-all, end-all of brainsucking movies, look no further.  \",\n",
       " '\" With great sound effects, and impressive special effects, I can\\'t recommend this movie enough.  ',\n",
       " 'Call me a nut, but I think this is one of the best movies ever.  ',\n",
       " 'Great character actors Telly Savalas and Peter Boyle.  ',\n",
       " '1 hour 54 minutes of sheer tedium, melodrama and horrible acting, a mess of a script, and a sinking feeling of GOOD LORD, WHAT WERE THEY THINKING?  ',\n",
       " 'Lots of holes in the script.  ',\n",
       " \"It's like a bad two hour TV movie.  \",\n",
       " 'Now imagine that every single one of those decisions was made wrong.  ',\n",
       " 'The dialogue is atrocious.  ',\n",
       " 'The acting is beyond abysmal.  ',\n",
       " 'Everything stinks.  ',\n",
       " 'Trouble is, the writing and directing make it impossible to establish those things that make a movie watchable, like character, story, theme and so on.  ',\n",
       " \"Worse, there's an incredibly weak sub-plot thrown in that follows a little band of latter-day Mansonites as they go after a reporter who's working on a story on the anniversary of the killings.  \",\n",
       " \"It's dumb and pointless, and a complete waste of time.  \",\n",
       " \"In short, don't bother with this movie.  \",\n",
       " \"I won't spoil it, but the ending in pretty amazing.  \",\n",
       " \"The best scene in the movie is at the end, but I won't spoil it.  \",\n",
       " \"If there was ever an indication of a writer and a director's ability to meld two highly volatile temperaments into a seamless union of creativity, then this is it!  \",\n",
       " \"The result is a powerhouse achievement, made more timely now perhaps because of our culture's disturbing fascination with celebrity, and it's distorted interpretations of fame.  \",\n",
       " 'A film not easily forgotten.  ',\n",
       " 'But, Kevin Spacey is an excellent, verbal tsunami as Buddy Ackerman Â– and totally believable because he is a great actor.  ',\n",
       " 'The scripting of the subtle comedy is unmatched by any movie in recent years.  ',\n",
       " 'The characters are interesting, even if a bit predictable.  ',\n",
       " 'Highly recommended for all ages, although the younger set will probably not appreciate some of the more subtle references, they will certainly appreciate one galley scene in particular!  ',\n",
       " 'Great movie!  ',\n",
       " 'Also the story and acting were weak.  ',\n",
       " \"At around 4 pm I bought it, at around 8pm I started to watch, at around 8.15pm I fast forwarded the remaining film to see if there was anything left watchable for a human being with a brain... but there wasn't.  \",\n",
       " 'Either way, it sucks.  ',\n",
       " 'The script is horrendously stupid.  ',\n",
       " 'The story starts too fast with absolutely no suspense or build-up in the slightest.  ',\n",
       " 'Everything Captain Howdy says is either laughable or just plain stupid.  ',\n",
       " 'What the hell kind of crap is that?!  ',\n",
       " \"Then, there's the plot holes.  \",\n",
       " 'You could drive a semi truck into these holes!  ',\n",
       " 'Linda Cardellini is the only thing good in this film.  ',\n",
       " \"She's poised and amazing.  \",\n",
       " 'Dee Snider just plain sucks.  ',\n",
       " \"He can't act (one of the least scary villains I have ever seen), he can't write (did he write this damn movie in his sleep?  \",\n",
       " 'I was bored throughout the whole damn thing.  ',\n",
       " 'The acting sucks, the music sucks, the script sucks, the pacing sucks, the special FX suck, the directing sucks... basically, this movie sucks.  ',\n",
       " 'This film tries to be a serious and sophisticated thriller/horror flick and it fails miserably.  ',\n",
       " 'This is probably one of the least effective and utterly unoriginal films I have ever seen in my entire life.  ',\n",
       " 'A piece of cinematic garbage captured on celluloid.  ',\n",
       " 'Avoid at any and all costs.  ',\n",
       " 'At any rate this film stinks, its not funny, and Fulci should have stayed with giallo and supernatural zombie movies.  ',\n",
       " 'Avoid this film at all costs.  ',\n",
       " \"I don't know what happened in Season Five, what a mess.  \",\n",
       " 'The only consistent thread holding the series together were the amazing performances of Leni Parker and Anita LaSelva as the two Taelons in quiet idealogical conflict.  ',\n",
       " 'Now this is a movie I really dislike.  ',\n",
       " \"It's one of the most boring Horror movies from the 90's mainly because it starts slow and centers in a boring atmosphere.  \",\n",
       " \"The puppets look really cheesy , not in a good way like in the Puppet Master 80's flicks.  \",\n",
       " 'The story is lame, not interesting and NEVER really explains the sinister origins of the puppets.  ',\n",
       " \"There aren't death scenes like in previous movies and the f/x are terrible.  \",\n",
       " 'I felt asleep the first time I watched it, so I can recommend it for insomniacs.  ',\n",
       " 'The fact is, this film is a wonderful, heartwarming tale about two people chasing their dreams.  ',\n",
       " 'The best part about \"Nurse Betty\" is it\\'s unpredictability.  ',\n",
       " 'Director Neil LaBute uses brutal violence to seperate dreams from reality, and along with the touching drama, and hilarious comedy, you can never tell what is going to happen next.  ',\n",
       " \"Otherwise, don't even waste your time on this.  \",\n",
       " 'This one just fails to create any real suspense.  ',\n",
       " \"As for the killer, don't expect anything original or even remotely frightening.  \",\n",
       " 'There is, however, some pretty good acting (at least, for this type of film).  ',\n",
       " \"I'm so sorry but I really can't recommend it to anyone.  \",\n",
       " 'One of the most boring,pointless movies I have ever seen.  ',\n",
       " 'The secondary plot line is incomprehensible and its relation to the primary plot line is mystifying.  ',\n",
       " 'Hated it.  ',\n",
       " 'This is one of the worst Sandra Bullock movie since Speed 2 But not quite that bad.  ',\n",
       " \"I don't understand how this garbage got on the shelves of the movie store, it's not even a real movie!  \",\n",
       " 'I highly doubt that anyone could ever like this trash.  ',\n",
       " 'This is not movie-making.  ',\n",
       " \"The acting is like watching wooden puppets moving around and reading from a book, that's how bad it is.  \",\n",
       " 'So I am here to warn you--DO NOT RENT THIS MOVIE, it is the dumbest thing you have never seen!  ',\n",
       " 'I saw this short film on HBO the other day and absolutely loved it.  ',\n",
       " \"I didn't realize how wonderful the short really is until the last two scenes.  \",\n",
       " 'Excellent short film.  ',\n",
       " 'Hopefully, the director James Cox can turn the short into a feature length film with the same cast, or win us over with a whole new film.  ',\n",
       " 'I agree with Jessica, this movie is pretty bad.  ',\n",
       " 'Characters are one-dimensional, even the good guys and especially the bad guys.  ',\n",
       " 'The story line is totally predictable.  ',\n",
       " 'Not much dialogue, not much music, the whole film was shot as elaborately and aesthetically like a sculpture.  ',\n",
       " \"I've seen soap operas more intelligent than this movie.  \",\n",
       " 'Bad characters, bad story and bad acting.  ',\n",
       " 'Really awful.  ',\n",
       " 'Not easy to watch.  ',\n",
       " \"Funny, clever, hip - just like Pray's previous film, Hype!  \",\n",
       " \"It was a long time that i didn't see a so charismatic actor on screen.  \",\n",
       " 'Paolo Sorrentino has written a wonderful story about loneliness and Tony has built one of the most unforgettable characters seen in movies in recent years.  ',\n",
       " \"The movie is not completely perfect but 'Titta Di Girolamo' will stay with you for a long time after the vision of the movie.  \",\n",
       " 'I rate this movie 9/10.  ',\n",
       " \"I do not know if this was Emilio Estevez's directorial debut, but the pacing, the interplay and development of the characters as well as some clever camera work surrounding the character Estevez plays all suggest a natural eye.  \",\n",
       " 'The interplay between Martin and Emilio contains the same wonderful chemistry we saw in Wall Street with Martin and Charlie.  ',\n",
       " 'Kathy Bates is wonderful in her characters subtle desperation and escapism; a variation on her character in \"At Play In The Fields Of The Lord\".  ',\n",
       " \"For readers who have already seen one of Miyazaki's films: he is still in top form and made another worthwhile experience.  \",\n",
       " 'It never condescends, all the characters have good genuine hearts and believable problems.  ',\n",
       " 'The two main characters may be two of the most believable children I ever saw put on screen.  ',\n",
       " 'They are so easy to love, but even more easy to identify with.  ',\n",
       " 'This movie is great--especially if you enjoy visual arts.  ',\n",
       " 'The scenery that the two daughters paint and photograph are beautiful.  ',\n",
       " 'The story is also both funny and poignant at times.  ',\n",
       " 'People who like European films and \"art movies\" will like this movie.  ',\n",
       " 'This is truly an art movie--it actually has a lot of art in it.  ',\n",
       " 'Go rent it.  ',\n",
       " 'However, after finally watching this film, I realized that not only had I had a closed mind to the brilliance it depicts, I also found myself watching it over and over again.  ',\n",
       " \"It's the one movie that never ceases to interest me, simply because it keeps me alert, as I try to attempt to decipher it's meanings.  \",\n",
       " 'Brilliance indeed.  ',\n",
       " \"But if you liked movies like The Matrix (and better yet, their sequels) I think you'll appreciate the thought provoking, mindblowing experience this film will give you.  \",\n",
       " 'Think of the film being like a dream.  ',\n",
       " 'Simply beautiful.  ',\n",
       " \"Both Rickman and Stowe play their roles to the hilt in this tale of a childrens' book writer who-- maybe?-- has written a subversive tract.  \",\n",
       " \"It's a gloriously fun, fast paced and fairly accurate portrayal of the night of a raver.  \",\n",
       " 'It presents a idyllic yet serious portrayal of the ups and downs of the characters lives.  ',\n",
       " 'Just whatever you do, avoid \"Groove\" as its the antithesis of all that is good about Human Traffic.  ',\n",
       " \"It's too bad that everyone else involved didn't share Crowe's level of dedication to quality, for if they did, we'd have a far better film on our hands than this sub-par mess.  \",\n",
       " 'The movie seemed a little slow at first.  ',\n",
       " 'But it picked up speed and got right to the point.  ',\n",
       " 'It showed exactly how the government and the scientist argued for humanity and the reasons of the \"gadget\".  ',\n",
       " 'I enjoyed it.  ',\n",
       " 'I have recommended it to friends.  ',\n",
       " 'I was particularly pleased with the acting ability of Dwight Schultz.  ',\n",
       " 'Both actors truly understand and become their particular character, delivering a convincing, sincere performance.  ',\n",
       " 'Their on-screen chemistry, critical to the entire film, is genuine.  ',\n",
       " \"The film's dialogue is natural, real to life.  \",\n",
       " 'The writer, Gorman Bechard, undoubtedly did his homework because all references are industry and character-age appropriate.  ',\n",
       " 'The incredible soundtrack truly captures the essence of the film.  ',\n",
       " 'Each track commands sentiment, actually contributing to the scenes and characters.  ',\n",
       " \"Definitely worth seeingÂ… it's the sort of thought provoking film that forces you to question your own threshold of loneliness.  \",\n",
       " 'Hayao Miyazaki\\'s latest and eighth film for Studio Ghibili, \"Gake No Ue No Ponyo\" (Ponyo on the Cliff by the Sea) is a wonderfully fun and imaginative look at childhood.  ',\n",
       " \"At a time when it seems that film animation has been dominated by Disney/Pixar's CGI masterpieces, it is both refreshing and comforting to know that Miyazaki is still relying on traditional hand-drawn animation to tell his charming and enchanting stories.  \",\n",
       " 'Enough can not be said of the remarkable animation in this film.  ',\n",
       " 'The art style has the appearance of crayon/pencil drawings and is wonderfully colorful and fanciful.  ',\n",
       " \"If you act in such a film, you should be glad that you're gonna drift away from earth as far as possible!  \",\n",
       " 'This one wants to surf on the small wave of space movies in 1998 (Deep Impact and Armageddon), and this one fails everywhere.  ',\n",
       " \"If you haven't choked in your own vomit by the end (by all the cheap drama and worthless dialogue) you've must have bored yourself to death with this waste of time.  \",\n",
       " 'Still, it makes up for all of this with a super ending that depicts a great sea vessel being taken out by the mighty frost.  ',\n",
       " 'Just consider the excellent story, solid acting and look of the film as added bonuses.  ',\n",
       " 'Instead, we got a bore fest about a whiny, spoiled brat babysitting.  ',\n",
       " 'Then I watched it again two Sundays ago (March 20th, 2005) and I began to really enjoy it and this time I taped the entire thing.  ',\n",
       " 'It is a very well acted and done TV Movie.  ',\n",
       " 'Judith Light is one of my favorite actresses and I think she does a superb job in this film!  ',\n",
       " 'I keep watching it over and over.  ',\n",
       " \"It's a sad movie, but very good.  \",\n",
       " 'If you have not seen this movie, I definitely recommend it!  ',\n",
       " 'She is as lovely as usual, this cutie!  ',\n",
       " \"Still it's quite interesting and entertaining to follow.  \",\n",
       " ';) Recommend with confidence!  ',\n",
       " 'This movie is well-balanced with comedy and drama and I thoroughly enjoyed myself.  ',\n",
       " \"It was a riot to see Hugo Weaving play a sex-obsessed gay real estate salesman who uses his clients' houses for his trysts with the flaming Darren (Tom Hollander).  \",\n",
       " ':) Anyway, the plot flowed smoothly and the male-bonding scenes were a hoot.  ',\n",
       " 'The opening sequence of this gem is a classic, and the cat n mouse games that follow are a delight to watch.  ',\n",
       " 'Fans of the genre will be in heaven.  ',\n",
       " 'Lange had become a great actress.  ',\n",
       " 'It looked like a wonderful story.  ',\n",
       " 'I never walked out of a movie faster.  ',\n",
       " 'I just got bored watching Jessice Lange take her clothes off!  ',\n",
       " \"Unfortunately, any virtue in this film's production work was lost on a regrettable script.  \",\n",
       " 'In a word, it is embarrassing.  ',\n",
       " 'Exceptionally bad!  ',\n",
       " \"All in all its an insult to one's intelligence and a huge waste of money.  \"]"
      ]
     },
     "execution_count": 180,
     "metadata": {},
     "output_type": "execute_result"
    }
   ],
   "source": [
    "# Seperate the sentences\n",
    "train_doc = [line[0] for line in lines ]\n",
    "train_doc"
   ]
  },
  {
   "cell_type": "code",
   "execution_count": 181,
   "metadata": {},
   "outputs": [
    {
     "data": {
      "text/plain": [
       "[0, 0, 0, 1, 0, 0, 1, 0, 1]"
      ]
     },
     "execution_count": 181,
     "metadata": {},
     "output_type": "execute_result"
    }
   ],
   "source": [
    "# Seperate the labels\n",
    "train_labels = [int(line[1]) for line in lines]\n",
    "train_labels[1:10]"
   ]
  },
  {
   "cell_type": "code",
   "execution_count": 182,
   "metadata": {},
   "outputs": [],
   "source": [
    "from sklearn.feature_extraction.text import CountVectorizer"
   ]
  },
  {
   "cell_type": "code",
   "execution_count": 183,
   "metadata": {},
   "outputs": [],
   "source": [
    "# Instatiate the Countvectorizer\n",
    "count_vectorizer = CountVectorizer(binary='true')\n",
    "# Train the documents\n",
    "train_documents = count_vectorizer.fit_transform(train_doc)"
   ]
  },
  {
   "cell_type": "code",
   "execution_count": 184,
   "metadata": {},
   "outputs": [
    {
     "data": {
      "text/plain": [
       "<1000x3051 sparse matrix of type '<class 'numpy.int64'>'\n",
       "\twith 12667 stored elements in Compressed Sparse Row format>"
      ]
     },
     "execution_count": 184,
     "metadata": {},
     "output_type": "execute_result"
    }
   ],
   "source": [
    "train_documents"
   ]
  },
  {
   "cell_type": "code",
   "execution_count": 185,
   "metadata": {},
   "outputs": [
    {
     "name": "stdout",
     "output_type": "stream",
     "text": [
      "  (0, 1641)\t1\n",
      "  (0, 3041)\t1\n",
      "  (0, 787)\t1\n",
      "  (0, 749)\t1\n",
      "  (0, 37)\t1\n",
      "  (0, 1750)\t1\n",
      "  (0, 92)\t1\n",
      "  (0, 1752)\t1\n",
      "  (0, 2408)\t1\n",
      "  (0, 2875)\t1\n"
     ]
    }
   ],
   "source": [
    "print(train_documents[0])"
   ]
  },
  {
   "cell_type": "code",
   "execution_count": 186,
   "metadata": {},
   "outputs": [
    {
     "data": {
      "text/plain": [
       "{'very': 2875,\n",
       " 'slow': 2408,\n",
       " 'moving': 1752,\n",
       " 'aimless': 92,\n",
       " 'movie': 1750,\n",
       " 'about': 37,\n",
       " 'distressed': 749,\n",
       " 'drifting': 787,\n",
       " 'young': 3041,\n",
       " 'man': 1641,\n",
       " 'not': 1815,\n",
       " 'sure': 2571,\n",
       " 'who': 2969,\n",
       " 'was': 2921,\n",
       " 'more': 1735,\n",
       " 'lost': 1607,\n",
       " 'the': 2642,\n",
       " 'flat': 1036,\n",
       " 'characters': 432,\n",
       " 'or': 1864,\n",
       " 'audience': 196,\n",
       " 'nearly': 1779,\n",
       " 'half': 1207,\n",
       " 'of': 1839,\n",
       " 'whom': 2973,\n",
       " 'walked': 2909,\n",
       " 'out': 1877,\n",
       " 'attempting': 192,\n",
       " 'artiness': 169,\n",
       " 'with': 2989,\n",
       " 'black': 290,\n",
       " 'white': 2967,\n",
       " 'and': 125,\n",
       " 'clever': 479,\n",
       " 'camera': 377,\n",
       " 'angles': 131,\n",
       " 'disappointed': 731,\n",
       " 'became': 249,\n",
       " 'even': 893,\n",
       " 'ridiculous': 2202,\n",
       " 'as': 174,\n",
       " 'acting': 56,\n",
       " 'poor': 2004,\n",
       " 'plot': 1988,\n",
       " 'lines': 1577,\n",
       " 'almost': 104,\n",
       " 'non': 1807,\n",
       " 'existent': 922,\n",
       " 'little': 1583,\n",
       " 'music': 1762,\n",
       " 'anything': 148,\n",
       " 'to': 2698,\n",
       " 'speak': 2454,\n",
       " 'best': 276,\n",
       " 'scene': 2270,\n",
       " 'in': 1359,\n",
       " 'when': 2959,\n",
       " 'gerardo': 1135,\n",
       " 'is': 1424,\n",
       " 'trying': 2763,\n",
       " 'find': 1019,\n",
       " 'song': 2435,\n",
       " 'that': 2641,\n",
       " 'keeps': 1479,\n",
       " 'running': 2237,\n",
       " 'through': 2677,\n",
       " 'his': 1278,\n",
       " 'head': 1238,\n",
       " 'rest': 2184,\n",
       " 'lacks': 1510,\n",
       " 'art': 167,\n",
       " 'charm': 437,\n",
       " 'meaning': 1675,\n",
       " 'if': 1338,\n",
       " 'it': 1430,\n",
       " 'emptiness': 849,\n",
       " 'works': 3010,\n",
       " 'guess': 1195,\n",
       " 'because': 250,\n",
       " 'empty': 850,\n",
       " 'wasted': 2926,\n",
       " 'two': 2776,\n",
       " 'hours': 1309,\n",
       " 'saw': 2261,\n",
       " 'today': 2699,\n",
       " 'thought': 2668,\n",
       " 'good': 1164,\n",
       " 'effort': 823,\n",
       " 'messages': 1696,\n",
       " 'for': 1055,\n",
       " 'kids': 1486,\n",
       " 'bit': 288,\n",
       " 'predictable': 2025,\n",
       " 'loved': 1613,\n",
       " 'casting': 407,\n",
       " 'jimmy': 1451,\n",
       " 'buffet': 356,\n",
       " 'science': 2280,\n",
       " 'teacher': 2612,\n",
       " 'those': 2666,\n",
       " 'baby': 217,\n",
       " 'owls': 1892,\n",
       " 'were': 2954,\n",
       " 'adorable': 72,\n",
       " 'showed': 2367,\n",
       " 'lot': 1608,\n",
       " 'florida': 1043,\n",
       " 'at': 186,\n",
       " 'made': 1628,\n",
       " 'look': 1598,\n",
       " 'appealing': 152,\n",
       " 'songs': 2436,\n",
       " 'muppets': 1757,\n",
       " 'so': 2420,\n",
       " 'hilarious': 1272,\n",
       " 'cool': 581,\n",
       " 'this': 2662,\n",
       " 'right': 2204,\n",
       " 'on': 1854,\n",
       " 'case': 403,\n",
       " 'delivers': 683,\n",
       " 'everything': 899,\n",
       " 'your': 3043,\n",
       " 'face': 948,\n",
       " 'had': 1202,\n",
       " 'some': 2429,\n",
       " 'average': 202,\n",
       " 'from': 1090,\n",
       " 'main': 1630,\n",
       " 'person': 1945,\n",
       " 'low': 1616,\n",
       " 'budget': 354,\n",
       " 'you': 3040,\n",
       " 'clearly': 478,\n",
       " 'can': 381,\n",
       " 'see': 2305,\n",
       " 'review': 2196,\n",
       " 'long': 1596,\n",
       " 'overdue': 1886,\n",
       " 'since': 2381,\n",
       " 'consider': 550,\n",
       " 'tale': 2600,\n",
       " 'sisters': 2390,\n",
       " 'be': 244,\n",
       " 'single': 2385,\n",
       " 'greatest': 1183,\n",
       " 'film': 1009,\n",
       " 'ever': 895,\n",
       " 'll': 1587,\n",
       " 'put': 2082,\n",
       " 'gem': 1125,\n",
       " 'up': 2844,\n",
       " 'against': 85,\n",
       " 'any': 146,\n",
       " 'terms': 2633,\n",
       " 'screenplay': 2288,\n",
       " 'cinematography': 472,\n",
       " 'post': 2015,\n",
       " 'production': 2052,\n",
       " 'editing': 816,\n",
       " 'directing': 726,\n",
       " 'other': 1872,\n",
       " 'aspect': 178,\n",
       " 'making': 1637,\n",
       " 'practically': 2021,\n",
       " 'perfect': 1937,\n",
       " 'all': 100,\n",
       " 'them': 2648,\n",
       " 'true': 2757,\n",
       " 'masterpiece': 1660,\n",
       " 'sea': 2296,\n",
       " 'faux': 986,\n",
       " 'masterpieces': 1661,\n",
       " 'structure': 2523,\n",
       " 'easily': 808,\n",
       " 'most': 1738,\n",
       " 'tightly': 2687,\n",
       " 'constructed': 559,\n",
       " 'history': 1279,\n",
       " 'cinema': 469,\n",
       " 'think': 2660,\n",
       " 'no': 1803,\n",
       " 'where': 2961,\n",
       " 'something': 2431,\n",
       " 'vitally': 2895,\n",
       " 'important': 1350,\n",
       " 'occurs': 1837,\n",
       " 'every': 896,\n",
       " 'minute': 1710,\n",
       " 'words': 3006,\n",
       " 'content': 563,\n",
       " 'level': 1556,\n",
       " 'enough': 868,\n",
       " 'fill': 1008,\n",
       " 'dozen': 772,\n",
       " 'films': 1014,\n",
       " 'how': 1312,\n",
       " 'anyone': 147,\n",
       " 'their': 2647,\n",
       " 'mind': 1705,\n",
       " 'ask': 176,\n",
       " 'than': 2639,\n",
       " 'quite': 2095,\n",
       " 'simply': 2380,\n",
       " 'highest': 1269,\n",
       " 'superlative': 2566,\n",
       " 'form': 1068,\n",
       " 'imaginable': 1341,\n",
       " 'yes': 3038,\n",
       " 'does': 757,\n",
       " 'require': 2179,\n",
       " 'rather': 2108,\n",
       " 'significant': 2375,\n",
       " 'amount': 121,\n",
       " 'puzzle': 2084,\n",
       " 'solving': 2428,\n",
       " 'but': 366,\n",
       " 'pieces': 1963,\n",
       " 'fit': 1030,\n",
       " 'together': 2700,\n",
       " 'create': 609,\n",
       " 'beautiful': 246,\n",
       " 'picture': 1960,\n",
       " 'short': 2360,\n",
       " 'certainly': 420,\n",
       " 'pulls': 2073,\n",
       " 'punches': 2075,\n",
       " 'graphics': 1179,\n",
       " 'far': 973,\n",
       " 'part': 1917,\n",
       " 'game': 1114,\n",
       " 'number': 1823,\n",
       " 'one': 1856,\n",
       " 'th': 2638,\n",
       " 'series': 2327,\n",
       " 'deserves': 696,\n",
       " 'strong': 2521,\n",
       " 'love': 1612,\n",
       " 'an': 123,\n",
       " 'insane': 1383,\n",
       " 'there': 2654,\n",
       " 'are': 160,\n",
       " 'massive': 1657,\n",
       " 'levels': 1557,\n",
       " 'unlockable': 2826,\n",
       " 'just': 1473,\n",
       " 'waste': 2925,\n",
       " 'money': 1727,\n",
       " 'kind': 1492,\n",
       " 'properly': 2060,\n",
       " 'actually': 63,\n",
       " 'time': 2688,\n",
       " 'crap': 603,\n",
       " 'they': 2656,\n",
       " 'say': 2262,\n",
       " 'canada': 382,\n",
       " 'fun': 1100,\n",
       " 'aye': 213,\n",
       " 'rocks': 2217,\n",
       " 'buy': 367,\n",
       " 'play': 1975,\n",
       " 'enjoy': 864,\n",
       " 'pure': 2080,\n",
       " 'brilliance': 343,\n",
       " 'flick': 1041,\n",
       " 'doomed': 767,\n",
       " 'its': 1432,\n",
       " 'conception': 532,\n",
       " 'idea': 1330,\n",
       " 'lame': 1513,\n",
       " 'take': 2596,\n",
       " 'minor': 1709,\n",
       " 'character': 430,\n",
       " 'mediocre': 1679,\n",
       " 'pg': 1949,\n",
       " '13': 2,\n",
       " 'make': 1633,\n",
       " 'complete': 521,\n",
       " 'sequel': 2323,\n",
       " 'while': 2964,\n",
       " 'changing': 428,\n",
       " 'tone': 2706,\n",
       " 'rated': 2107,\n",
       " 'family': 966,\n",
       " 'wasn': 2924,\n",
       " 'least': 1540,\n",
       " 'interested': 1405,\n",
       " 'only': 1858,\n",
       " 'did': 718,\n",
       " 'confirm': 541,\n",
       " 'would': 3019,\n",
       " 'unfunny': 2817,\n",
       " 'generic': 1129,\n",
       " 'also': 108,\n",
       " 'managed': 1642,\n",
       " 'give': 1149,\n",
       " 'away': 209,\n",
       " 'entire': 873,\n",
       " 'exaggerating': 906,\n",
       " 'moment': 1724,\n",
       " 'point': 1995,\n",
       " 'joke': 1457,\n",
       " 'told': 2701,\n",
       " 'trailer': 2731,\n",
       " 'funny': 1104,\n",
       " 'talented': 2602,\n",
       " 'carrell': 397,\n",
       " 'save': 2259,\n",
       " 'co': 489,\n",
       " 'stars': 2482,\n",
       " 'don': 763,\n",
       " 'fare': 975,\n",
       " 'much': 1755,\n",
       " 'better': 277,\n",
       " 'people': 1935,\n",
       " 'like': 1567,\n",
       " 'morgan': 1736,\n",
       " 'freeman': 1083,\n",
       " 'jonah': 1459,\n",
       " 'hill': 1273,\n",
       " 'ed': 814,\n",
       " 'helms': 1252,\n",
       " 'story': 2508,\n",
       " 'itself': 1433,\n",
       " 'lazy': 1535,\n",
       " 'real': 2119,\n",
       " 'effects': 822,\n",
       " 'work': 3007,\n",
       " 'presence': 2031,\n",
       " 'animals': 135,\n",
       " 'integration': 1397,\n",
       " 'into': 1411,\n",
       " 'scenes': 2272,\n",
       " 'worst': 3014,\n",
       " 'obvious': 1832,\n",
       " 'blue': 300,\n",
       " 'green': 1185,\n",
       " 'screen': 2286,\n",
       " 've': 2867,\n",
       " 'seen': 2311,\n",
       " 'whatever': 2957,\n",
       " 'cost': 588,\n",
       " 'didn': 719,\n",
       " 'translate': 2736,\n",
       " 'quality': 2088,\n",
       " 'succeeds': 2547,\n",
       " 'despite': 704,\n",
       " 'perhaps': 1942,\n",
       " 'obviously': 1833,\n",
       " 'meagre': 1672,\n",
       " 'glad': 1153,\n",
       " 'go': 1157,\n",
       " 'choice': 461,\n",
       " 'lesser': 1551,\n",
       " 'have': 1229,\n",
       " 'addition': 68,\n",
       " 'having': 1232,\n",
       " 'lovely': 1614,\n",
       " 'written': 3029,\n",
       " 'french': 1084,\n",
       " 'cancan': 383,\n",
       " 'boasts': 302,\n",
       " 'cutest': 636,\n",
       " 'leading': 1537,\n",
       " 'ladies': 1511,\n",
       " 'grace': 1174,\n",
       " 'hard': 1222,\n",
       " 'fall': 959,\n",
       " 'over': 1882,\n",
       " 'heels': 1247,\n",
       " 'girl': 1145,\n",
       " 'negative': 1784,\n",
       " 'insipid': 1386,\n",
       " 'cause': 411,\n",
       " 'regret': 2145,\n",
       " 'another': 143,\n",
       " 'life': 1563,\n",
       " 'front': 1091,\n",
       " 'whiny': 2966,\n",
       " 'pointless': 1997,\n",
       " 'recommend': 2133,\n",
       " 'waiting': 2906,\n",
       " 'future': 1106,\n",
       " 'efforts': 824,\n",
       " 'let': 1553,\n",
       " 'excellent': 908,\n",
       " 'cast': 405,\n",
       " 'line': 1575,\n",
       " 'performances': 1941,\n",
       " 'totally': 2719,\n",
       " 'believable': 263,\n",
       " 'anne': 140,\n",
       " 'heche': 1246,\n",
       " 'utterly': 2860,\n",
       " 'convincing': 579,\n",
       " 'sam': 2248,\n",
       " 'shepard': 2355,\n",
       " 'portrayal': 2008,\n",
       " 'gung': 1198,\n",
       " 'ho': 1281,\n",
       " 'marine': 1649,\n",
       " 'sobering': 2422,\n",
       " 'sat': 2255,\n",
       " 'riveted': 2210,\n",
       " 'tv': 2771,\n",
       " 'resounding': 2182,\n",
       " '10': 0,\n",
       " 'do': 752,\n",
       " 'tom': 2704,\n",
       " 'hanks': 1217,\n",
       " 'actor': 59,\n",
       " 'enjoyed': 866,\n",
       " 'reading': 2117,\n",
       " 'book': 315,\n",
       " 'my': 1765,\n",
       " 'children': 455,\n",
       " 'annoying': 142,\n",
       " 'voice': 2899,\n",
       " 'gives': 1151,\n",
       " 'me': 1671,\n",
       " 'feeling': 993,\n",
       " 'fingernails': 1023,\n",
       " 'chalkboard': 423,\n",
       " 'unnecessary': 2830,\n",
       " 'train': 2732,\n",
       " 'roller': 2221,\n",
       " 'coaster': 493,\n",
       " 'absolutely': 40,\n",
       " 'warmth': 2916,\n",
       " 'these': 2655,\n",
       " 'grates': 1181,\n",
       " 'nerves': 1788,\n",
       " 'improved': 1355,\n",
       " 'by': 368,\n",
       " 'improvisation': 1357,\n",
       " 'actors': 60,\n",
       " 'now': 1822,\n",
       " 'twice': 2772,\n",
       " 'worry': 3012,\n",
       " 'whether': 2962,\n",
       " 're': 2114,\n",
       " 'delivering': 682,\n",
       " 'well': 2951,\n",
       " 'honestly': 1294,\n",
       " 'often': 1845,\n",
       " 'dialogue': 715,\n",
       " 'doesn': 758,\n",
       " 'really': 2125,\n",
       " 'follow': 1049,\n",
       " 'surroundings': 2580,\n",
       " 'crackles': 601,\n",
       " 'unpredictable': 2835,\n",
       " 'youthful': 3045,\n",
       " 'energy': 860,\n",
       " 'found': 1074,\n",
       " 'concentrate': 531,\n",
       " 'meanders': 1674,\n",
       " 'badly': 223,\n",
       " 'generally': 1127,\n",
       " 'great': 1182,\n",
       " 'things': 2659,\n",
       " 'wouldn': 3020,\n",
       " 'worth': 3015,\n",
       " 'though': 2667,\n",
       " 'suspense': 2582,\n",
       " 'builders': 358,\n",
       " 'cross': 625,\n",
       " 'especially': 884,\n",
       " 'liked': 1568,\n",
       " 'cliche': 480,\n",
       " 'choices': 462,\n",
       " 'parents': 1914,\n",
       " 'movies': 1751,\n",
       " 'could': 592,\n",
       " 'predict': 2024,\n",
       " 'dialog': 713,\n",
       " 'verbatim': 2871,\n",
       " 'writing': 3028,\n",
       " 'selections': 2312,\n",
       " 'want': 2911,\n",
       " 'gross': 1192,\n",
       " 'chills': 457,\n",
       " 'alexander': 98,\n",
       " 'nevsky': 1795,\n",
       " 'he': 1237,\n",
       " 'amazing': 115,\n",
       " 'artist': 170,\n",
       " 'whoever': 2970,\n",
       " 'lived': 1584,\n",
       " 'pretentious': 2035,\n",
       " 'piece': 1962,\n",
       " 'planned': 1973,\n",
       " 'dodge': 756,\n",
       " 'stratus': 2514,\n",
       " 'big': 283,\n",
       " 'shots': 2363,\n",
       " 'gonna': 1163,\n",
       " 'help': 1253,\n",
       " 'makers': 1635,\n",
       " 'aren': 161,\n",
       " 'restrained': 2185,\n",
       " 'business': 365,\n",
       " 'quã': 2096,\n",
       " 'bec': 248,\n",
       " 'first': 1026,\n",
       " 'given': 1150,\n",
       " 'years': 3036,\n",
       " 'needed': 1782,\n",
       " 'word': 3005,\n",
       " 'mouth': 1745,\n",
       " 'promote': 2056,\n",
       " 'overall': 1884,\n",
       " 'interesting': 1406,\n",
       " 'provoking': 2065,\n",
       " 'plus': 1990,\n",
       " 'paced': 1898,\n",
       " 'suited': 2557,\n",
       " 'relatively': 2155,\n",
       " 'run': 2236,\n",
       " 'gave': 1122,\n",
       " 'wind': 2986,\n",
       " 'lion': 1579,\n",
       " 'superbly': 2564,\n",
       " 'acted': 55,\n",
       " 'classic': 475,\n",
       " 'turned': 2769,\n",
       " 'pretty': 2037,\n",
       " 'decent': 665,\n",
       " 'list': 1580,\n",
       " 'horror': 1304,\n",
       " 'definitely': 675,\n",
       " 'checking': 444,\n",
       " 'problem': 2042,\n",
       " 'script': 2291,\n",
       " 'horrendous': 1299,\n",
       " 'nothing': 1820,\n",
       " 'frustration': 1094,\n",
       " 'retarded': 2189,\n",
       " 'girls': 1147,\n",
       " 'manna': 1644,\n",
       " 'heaven': 1245,\n",
       " 'terrific': 2636,\n",
       " 'both': 326,\n",
       " 'same': 2249,\n",
       " 'occasionally': 1834,\n",
       " 'touching': 2722,\n",
       " 'evaluate': 892,\n",
       " 'lives': 1585,\n",
       " 'going': 1161,\n",
       " 'veteran': 2877,\n",
       " 'nostalgia': 1814,\n",
       " 'trip': 2751,\n",
       " 'ursula': 2850,\n",
       " 'burton': 364,\n",
       " 'nun': 1825,\n",
       " 'nuns': 1826,\n",
       " 'church': 468,\n",
       " 'looking': 1600,\n",
       " 'including': 1363,\n",
       " 'shirley': 2357,\n",
       " 'jones': 1460,\n",
       " 'rendition': 2169,\n",
       " 'way': 2937,\n",
       " 'tonight': 2708,\n",
       " 'uplifting': 2846,\n",
       " 'ending': 856,\n",
       " 'try': 2762,\n",
       " 'will': 2981,\n",
       " 'frankly': 1080,\n",
       " 'after': 82,\n",
       " 'cotton': 591,\n",
       " 'club': 488,\n",
       " 'unfaithful': 2812,\n",
       " 'embarrassing': 838,\n",
       " 'watch': 2929,\n",
       " 'lane': 1516,\n",
       " 'gere': 1136,\n",
       " 'bad': 222,\n",
       " 'dialogs': 714,\n",
       " 'extremely': 944,\n",
       " 'shallow': 2340,\n",
       " 'insincere': 1385,\n",
       " 'too': 2711,\n",
       " 'chick': 452,\n",
       " 'politically': 2001,\n",
       " 'correct': 587,\n",
       " 'disappointing': 732,\n",
       " 'thing': 2658,\n",
       " 'watching': 2932,\n",
       " 'scenery': 2271,\n",
       " 'house': 1310,\n",
       " 'never': 1793,\n",
       " 'her': 1258,\n",
       " 'lousy': 1610,\n",
       " 'hour': 1308,\n",
       " 'wish': 2988,\n",
       " 'bring': 346,\n",
       " 'back': 219,\n",
       " 'fresh': 1085,\n",
       " 'bold': 307,\n",
       " 'helps': 1255,\n",
       " 'along': 105,\n",
       " 'maybe': 1668,\n",
       " 'idiot': 1335,\n",
       " 'savant': 2258,\n",
       " 'sister': 2389,\n",
       " 'been': 254,\n",
       " 'played': 1976,\n",
       " 'joy': 1462,\n",
       " 'boring': 323,\n",
       " 'sometimes': 2432,\n",
       " 'myself': 1766,\n",
       " 'occupied': 1835,\n",
       " 'peaking': 1930,\n",
       " 'paper': 1912,\n",
       " 'instead': 1391,\n",
       " 'happened': 1219,\n",
       " 'during': 798,\n",
       " 'columbo': 502,\n",
       " 'before': 255,\n",
       " 'seems': 2310,\n",
       " 'oh': 1846,\n",
       " 'mature': 1666,\n",
       " 'neighbour': 1786,\n",
       " 'misplace': 1716,\n",
       " 'weaker': 2944,\n",
       " 'episode': 876,\n",
       " 'then': 2652,\n",
       " 'debated': 660,\n",
       " 'sack': 2242,\n",
       " 'trumpeter': 2760,\n",
       " 'falsely': 962,\n",
       " 'accused': 50,\n",
       " 'murder': 1758,\n",
       " 'stupid': 2532,\n",
       " 'applause': 156,\n",
       " 'should': 2364,\n",
       " 'prelude': 2028,\n",
       " 'however': 1316,\n",
       " 'director': 728,\n",
       " 'edge': 815,\n",
       " 'seat': 2301,\n",
       " 'somewhat': 2433,\n",
       " 'afraid': 80,\n",
       " 'car': 391,\n",
       " 'end': 853,\n",
       " 'night': 1800,\n",
       " 'nice': 1798,\n",
       " 'advise': 75,\n",
       " 'brilliant': 344,\n",
       " 'playing': 1979,\n",
       " 'villain': 2886,\n",
       " 'rent': 2171,\n",
       " 'michael': 1699,\n",
       " 'ironside': 1422,\n",
       " 'rocked': 2216,\n",
       " 'world': 3011,\n",
       " 'must': 1764,\n",
       " 'social': 2423,\n",
       " 'physical': 1957,\n",
       " 'outlets': 1879,\n",
       " 'fact': 952,\n",
       " 'tremendously': 2747,\n",
       " 'chemistry': 451,\n",
       " 'between': 279,\n",
       " 'ben': 271,\n",
       " 'affleck': 79,\n",
       " 'sandra': 2252,\n",
       " 'bullock': 361,\n",
       " 'couldn': 593,\n",
       " 'understand': 2801,\n",
       " 'why': 2974,\n",
       " 'leaving': 1543,\n",
       " 'wife': 2977,\n",
       " 'supposedly': 2570,\n",
       " 'knocked': 1498,\n",
       " 'several': 2336,\n",
       " 'moments': 1725,\n",
       " 'need': 1781,\n",
       " 'excruciatingly': 917,\n",
       " 'remake': 2162,\n",
       " 'friends': 1087,\n",
       " 'wedding': 2948,\n",
       " 'disappointment': 733,\n",
       " 'cannot': 386,\n",
       " 'believe': 264,\n",
       " 'agreed': 91,\n",
       " 'stand': 2476,\n",
       " 'fear': 989,\n",
       " 'losing': 1606,\n",
       " 'nobody': 1805,\n",
       " 'network': 1792,\n",
       " 'aired': 94,\n",
       " 'dribble': 785,\n",
       " 'watched': 2931,\n",
       " 'putting': 2083,\n",
       " 'imdb': 1345,\n",
       " 'ratings': 2110,\n",
       " 'awful': 211,\n",
       " 'get': 1137,\n",
       " 'numbers': 1824,\n",
       " 'cases': 404,\n",
       " 'such': 2549,\n",
       " 'mirrormask': 1712,\n",
       " 'last': 1521,\n",
       " 'unsatisfactory': 2841,\n",
       " 'experience': 929,\n",
       " 'unfortunately': 2816,\n",
       " 'inexperience': 1379,\n",
       " 'direction': 727,\n",
       " 'meant': 1677,\n",
       " 'passed': 1922,\n",
       " 'dramatic': 779,\n",
       " 'tension': 2630,\n",
       " 'conflict': 542,\n",
       " 'central': 417,\n",
       " 'themes': 2650,\n",
       " 'handled': 1212,\n",
       " 'ineptly': 1378,\n",
       " 'stereotypically': 2495,\n",
       " 'depth': 690,\n",
       " 'imagination': 1342,\n",
       " 'pictures': 1961,\n",
       " 'flawed': 1038,\n",
       " 'core': 584,\n",
       " 'following': 1050,\n",
       " 'bunch': 363,\n",
       " 'high': 1267,\n",
       " 'schoolers': 2276,\n",
       " 'whine': 2965,\n",
       " 'cry': 630,\n",
       " 'relate': 2149,\n",
       " 'hell': 1250,\n",
       " 'barely': 234,\n",
       " 'cult': 631,\n",
       " 'viewing': 2884,\n",
       " 'sharing': 2344,\n",
       " 'others': 1873,\n",
       " 'disaster': 734,\n",
       " 'confuses': 543,\n",
       " 'incredibly': 1368,\n",
       " 'fish': 1027,\n",
       " 'underwater': 2807,\n",
       " 'repeated': 2173,\n",
       " 'thousand': 2670,\n",
       " 'times': 2692,\n",
       " 'truly': 2758,\n",
       " 'terrible': 2634,\n",
       " 'worse': 3013,\n",
       " 'possible': 2013,\n",
       " 'redeemed': 2138,\n",
       " 'mst3k': 1754,\n",
       " 'fodder': 1048,\n",
       " 'paid': 1901,\n",
       " 'treat': 2743,\n",
       " 'anthony': 144,\n",
       " 'quinn': 2094,\n",
       " 'crazy': 608,\n",
       " 'horse': 1305,\n",
       " 'whatsoever': 2958,\n",
       " 'again': 84,\n",
       " 'horrible': 1301,\n",
       " 'gosh': 1168,\n",
       " 'walk': 2908,\n",
       " 'theatre': 2644,\n",
       " 'few': 1003,\n",
       " 'minutes': 1711,\n",
       " 'relief': 2159,\n",
       " 'hate': 1226,\n",
       " 'yeah': 3034,\n",
       " 'sucked': 2551,\n",
       " 'storyline': 2509,\n",
       " 'pillow': 1965,\n",
       " 'girlfriend': 1146,\n",
       " 'boyfriend': 331,\n",
       " 'keep': 1478,\n",
       " 'gone': 1162,\n",
       " 'disliked': 742,\n",
       " 'tickets': 2686,\n",
       " 'five': 1031,\n",
       " 'dollars': 761,\n",
       " 'mad': 1627,\n",
       " '50': 24,\n",
       " 'identifies': 1333,\n",
       " 'cardboard': 393,\n",
       " 'cutouts': 638,\n",
       " 'stereotypes': 2494,\n",
       " 'predictably': 2026,\n",
       " 'reverse': 2195,\n",
       " 'ugly': 2782,\n",
       " 'cartoon': 401,\n",
       " 'crafted': 602,\n",
       " 'paul': 1928,\n",
       " 'haggis': 1204,\n",
       " 'handle': 1211,\n",
       " 'strokes': 2520,\n",
       " 'storytelling': 2510,\n",
       " 'painted': 1905,\n",
       " 'crayons': 607,\n",
       " 'crash': 604,\n",
       " 'depressing': 689,\n",
       " 'provokes': 2064,\n",
       " 'emotion': 844,\n",
       " 'teaches': 2613,\n",
       " 'already': 107,\n",
       " 'know': 1499,\n",
       " 'racism': 2099,\n",
       " 'prejudice': 2027,\n",
       " 'still': 2499,\n",
       " 'empowerment': 848,\n",
       " 'women': 2995,\n",
       " 'brain': 333,\n",
       " 'attempt': 190,\n",
       " 'shut': 2369,\n",
       " 'down': 770,\n",
       " 'primal': 2039,\n",
       " 'impulse': 1358,\n",
       " 'self': 2313,\n",
       " 'preservation': 2033,\n",
       " 'left': 1545,\n",
       " 'shattered': 2347,\n",
       " 'took': 2712,\n",
       " 'fully': 1098,\n",
       " 'recover': 2136,\n",
       " 'joins': 1456,\n",
       " 'revenge': 2193,\n",
       " 'boogeyman': 314,\n",
       " 'zombiez': 3050,\n",
       " 'hellish': 1251,\n",
       " 'trinity': 2750,\n",
       " 'mean': 1673,\n",
       " 'distinction': 746,\n",
       " 'has': 1224,\n",
       " 'redeeming': 2139,\n",
       " 'features': 991,\n",
       " 'appalling': 151,\n",
       " 'artless': 172,\n",
       " 'endlessly': 857,\n",
       " 'presents': 2032,\n",
       " 'us': 2851,\n",
       " 'ugliest': 2781,\n",
       " 'setting': 2333,\n",
       " 'beyond': 281,\n",
       " 'isâ': 1429,\n",
       " 'lead': 1536,\n",
       " 'charisma': 433,\n",
       " 'free': 1081,\n",
       " 'without': 2991,\n",
       " 'merit': 1693,\n",
       " 'akin': 96,\n",
       " 'torture': 2716,\n",
       " 'reasonable': 2127,\n",
       " 'explanation': 934,\n",
       " 'atrocity': 189,\n",
       " 'pleasant': 1981,\n",
       " 'voyage': 2904,\n",
       " 'discovery': 738,\n",
       " 'highly': 1271,\n",
       " 'unrecommended': 2838,\n",
       " 'premise': 2029,\n",
       " 'sound': 2443,\n",
       " 'performance': 1940,\n",
       " 'ms': 1753,\n",
       " 'garbo': 1118,\n",
       " 'off': 1840,\n",
       " 'bat': 241,\n",
       " 'talents': 2603,\n",
       " 'carry': 399,\n",
       " 'silent': 2376,\n",
       " 'era': 879,\n",
       " 'wanted': 2912,\n",
       " 'netflix': 1791,\n",
       " 'seem': 2308,\n",
       " 'stocking': 2502,\n",
       " 'renowned': 2170,\n",
       " 'screenwriter': 2289,\n",
       " 'frances': 1078,\n",
       " 'marion': 1650,\n",
       " 'hasn': 1225,\n",
       " 'missed': 1718,\n",
       " 'step': 2492,\n",
       " 'suffered': 2553,\n",
       " 'many': 1646,\n",
       " 'close': 485,\n",
       " 'ups': 2848,\n",
       " 'seemed': 2309,\n",
       " 'drag': 776,\n",
       " 'heroes': 1262,\n",
       " 'freedom': 1082,\n",
       " 'below': 270,\n",
       " 'ones': 1857,\n",
       " 'received': 2130,\n",
       " 'age': 86,\n",
       " 'john': 1455,\n",
       " 'wayne': 2939,\n",
       " 'incredible': 1367,\n",
       " 'job': 1452,\n",
       " 'being': 261,\n",
       " 'industry': 1377,\n",
       " 'shined': 2356,\n",
       " 'senior': 2316,\n",
       " 'him': 1275,\n",
       " 'older': 1850,\n",
       " 'indulgent': 1376,\n",
       " 'junk': 1471,\n",
       " 'probably': 2041,\n",
       " 'hadn': 1203,\n",
       " 'spent': 2459,\n",
       " 'showcasing': 2366,\n",
       " 'own': 1893,\n",
       " 'which': 2963,\n",
       " 'isn': 1426,\n",
       " 'noteworthy': 1819,\n",
       " 'got': 1169,\n",
       " 'punched': 2074,\n",
       " 'gallon': 1113,\n",
       " 'blood': 298,\n",
       " 'spew': 2460,\n",
       " 'forth': 1072,\n",
       " 'soon': 2437,\n",
       " 'jamie': 1438,\n",
       " 'foxx': 1077,\n",
       " 'ray': 2113,\n",
       " 'charles': 435,\n",
       " 'genius': 1130,\n",
       " 'owns': 1895,\n",
       " 'spacek': 2451,\n",
       " 'owned': 1894,\n",
       " 'coal': 491,\n",
       " 'miner': 1707,\n",
       " 'daughter': 649,\n",
       " 'quaid': 2086,\n",
       " 'balls': 231,\n",
       " 'fire': 1025,\n",
       " 'remember': 2164,\n",
       " 'himself': 1276,\n",
       " 'legendary': 1547,\n",
       " 'provided': 2063,\n",
       " 'biographical': 286,\n",
       " 'material': 1662,\n",
       " 'goes': 1160,\n",
       " 'musician': 1763,\n",
       " 'hitchcock': 1280,\n",
       " 'ironically': 1420,\n",
       " 'mostly': 1739,\n",
       " 'total': 2718,\n",
       " 'secondly': 2304,\n",
       " 'perfected': 1938,\n",
       " 'thriller': 2675,\n",
       " 'chase': 439,\n",
       " 'pandering': 1908,\n",
       " 'sabotages': 2241,\n",
       " 'hence': 1256,\n",
       " 'whole': 2971,\n",
       " 'certain': 419,\n",
       " 'rumbles': 2235,\n",
       " 'machine': 1626,\n",
       " 'desperately': 701,\n",
       " 'depending': 685,\n",
       " 'new': 1796,\n",
       " 'usual': 2858,\n",
       " 'logic': 1593,\n",
       " 'flaws': 1039,\n",
       " 'mishima': 1715,\n",
       " 'uninteresting': 2819,\n",
       " 'chilly': 458,\n",
       " 'unremarkable': 2839,\n",
       " 'author': 201,\n",
       " 'living': 1586,\n",
       " 'working': 3009,\n",
       " 'abstruse': 41,\n",
       " 'culture': 632,\n",
       " 'reenactments': 2140,\n",
       " 'hold': 1284,\n",
       " 'attention': 194,\n",
       " 'emotionally': 845,\n",
       " 'adrift': 73,\n",
       " 'stagy': 2475,\n",
       " 'sits': 2395,\n",
       " 'soldiers': 2424,\n",
       " 'singing': 2384,\n",
       " 'masculinity': 1656,\n",
       " 'pledge': 1985,\n",
       " 'themselves': 2651,\n",
       " 'hairsplitting': 1206,\n",
       " 'purity': 2081,\n",
       " 'admiration': 70,\n",
       " 'swords': 2589,\n",
       " 'etc': 890,\n",
       " 'bore': 321,\n",
       " 'kill': 1488,\n",
       " 'momentum': 1726,\n",
       " 'quicker': 2092,\n",
       " 'else': 835,\n",
       " 'schrader': 2277,\n",
       " 'resume': 2188,\n",
       " 'full': 1097,\n",
       " 'amateurish': 112,\n",
       " '80s': 30,\n",
       " 'fascinated': 976,\n",
       " ...}"
      ]
     },
     "execution_count": 186,
     "metadata": {},
     "output_type": "execute_result"
    }
   ],
   "source": [
    "count_vectorizer.vocabulary_"
   ]
  },
  {
   "cell_type": "code",
   "execution_count": 187,
   "metadata": {},
   "outputs": [],
   "source": [
    "x = train_documents\n",
    "y = train_labels"
   ]
  },
  {
   "cell_type": "code",
   "execution_count": 188,
   "metadata": {},
   "outputs": [],
   "source": [
    "from sklearn.model_selection import train_test_split\n",
    "X_train,X_test, Y_train,Y_test = train_test_split(x,y,test_size = 0.30,random_state = 7)"
   ]
  },
  {
   "cell_type": "markdown",
   "metadata": {},
   "source": [
    "# IMPLEMENTING CLASSIFIER MODELS AND ALSO COMPARING DIFFERENT CLASSIFIERS:"
   ]
  },
  {
   "cell_type": "markdown",
   "metadata": {},
   "source": [
    "# NAIVE BAYES:"
   ]
  },
  {
   "cell_type": "markdown",
   "metadata": {},
   "source": [
    "## (1) Multinolmial Naive Bayes:"
   ]
  },
  {
   "cell_type": "code",
   "execution_count": 189,
   "metadata": {},
   "outputs": [],
   "source": [
    "from sklearn.naive_bayes import MultinomialNB\n",
    "multi = MultinomialNB().fit(X_train,Y_train)\n",
    "multi_pred = multi.predict(X_test)"
   ]
  },
  {
   "cell_type": "code",
   "execution_count": 190,
   "metadata": {},
   "outputs": [
    {
     "data": {
      "text/plain": [
       "array([1, 0, 0, 0, 1, 0, 1, 0, 0, 1, 1, 1, 0, 1, 0, 0, 1, 0, 1, 0, 0, 1,\n",
       "       0, 0, 0, 0, 0, 1, 0, 0, 0, 1, 0, 0, 0, 1, 0, 1, 1, 0, 1, 0, 0, 0,\n",
       "       0, 1, 0, 1, 1, 1, 1, 0, 0, 1, 0, 1, 0, 0, 1, 1, 0, 1, 1, 0, 0, 0,\n",
       "       0, 0, 0, 1, 0, 0, 0, 0, 0, 1, 1, 0, 1, 0, 1, 0, 1, 0, 1, 1, 1, 1,\n",
       "       1, 1, 0, 0, 1, 1, 0, 1, 1, 1, 1, 0, 1, 0, 1, 1, 1, 0, 0, 1, 0, 0,\n",
       "       1, 0, 0, 0, 0, 1, 0, 0, 1, 1, 1, 1, 1, 0, 1, 0, 1, 1, 0, 0, 1, 1,\n",
       "       0, 1, 0, 1, 0, 0, 1, 1, 1, 0, 0, 1, 0, 1, 0, 1, 1, 0, 0, 1, 1, 0,\n",
       "       0, 0, 1, 0, 0, 0, 1, 1, 0, 1, 0, 0, 1, 1, 0, 0, 1, 0, 0, 1, 0, 0,\n",
       "       0, 0, 1, 0, 0, 0, 1, 1, 1, 0, 1, 0, 1, 0, 0, 0, 1, 1, 1, 0, 1, 0,\n",
       "       0, 1, 1, 0, 0, 0, 1, 0, 0, 0, 0, 0, 0, 1, 1, 0, 1, 0, 0, 0, 1, 1,\n",
       "       1, 0, 0, 0, 1, 1, 0, 0, 0, 1, 0, 0, 0, 0, 0, 0, 0, 0, 1, 1, 1, 1,\n",
       "       1, 0, 0, 1, 0, 0, 1, 0, 0, 1, 0, 0, 1, 0, 0, 1, 0, 1, 0, 1, 1, 1,\n",
       "       1, 1, 0, 0, 0, 1, 1, 1, 1, 0, 0, 0, 1, 1, 1, 1, 0, 0, 0, 0, 0, 1,\n",
       "       0, 0, 0, 1, 0, 0, 0, 0, 0, 0, 0, 0, 1, 0])"
      ]
     },
     "execution_count": 190,
     "metadata": {},
     "output_type": "execute_result"
    }
   ],
   "source": [
    "multi_pred"
   ]
  },
  {
   "cell_type": "code",
   "execution_count": 191,
   "metadata": {},
   "outputs": [
    {
     "data": {
      "text/plain": [
       "0.7866666666666666"
      ]
     },
     "execution_count": 191,
     "metadata": {},
     "output_type": "execute_result"
    }
   ],
   "source": [
    "from sklearn import metrics\n",
    "multi_acc = metrics.accuracy_score(Y_test,multi_pred)\n",
    "multi_acc"
   ]
  },
  {
   "cell_type": "code",
   "execution_count": 192,
   "metadata": {},
   "outputs": [
    {
     "data": {
      "text/plain": [
       "0.7857229247657774"
      ]
     },
     "execution_count": 192,
     "metadata": {},
     "output_type": "execute_result"
    }
   ],
   "source": [
    "multi_f1 = metrics.f1_score(Y_test, multi_pred, average='weighted', labels=np.unique(multi_pred))\n",
    "multi_f1"
   ]
  },
  {
   "cell_type": "code",
   "execution_count": 193,
   "metadata": {},
   "outputs": [
    {
     "name": "stdout",
     "output_type": "stream",
     "text": [
      "[[129  23]\n",
      " [ 41 107]]\n"
     ]
    }
   ],
   "source": [
    "from sklearn.metrics import confusion_matrix\n",
    "matrix = confusion_matrix(Y_test,multi_pred)\n",
    "print(matrix)"
   ]
  },
  {
   "cell_type": "code",
   "execution_count": 194,
   "metadata": {},
   "outputs": [
    {
     "name": "stdout",
     "output_type": "stream",
     "text": [
      "             precision    recall  f1-score   support\n",
      "\n",
      "          0       0.76      0.85      0.80       152\n",
      "          1       0.82      0.72      0.77       148\n",
      "\n",
      "avg / total       0.79      0.79      0.79       300\n",
      "\n"
     ]
    }
   ],
   "source": [
    "from sklearn.metrics import classification_report \n",
    "\n",
    "print(classification_report(Y_test,multi_pred))"
   ]
  },
  {
   "cell_type": "markdown",
   "metadata": {},
   "source": [
    "### (2) Bernoulli Naive Bayes:"
   ]
  },
  {
   "cell_type": "code",
   "execution_count": 195,
   "metadata": {},
   "outputs": [],
   "source": [
    "# Training Phase\n",
    "from sklearn.naive_bayes import BernoulliNB\n",
    "bern = BernoulliNB().fit(X_train,Y_train)\n",
    "bern_pred = bern.predict(X_test)\n",
    "\n"
   ]
  },
  {
   "cell_type": "code",
   "execution_count": 196,
   "metadata": {},
   "outputs": [
    {
     "data": {
      "text/plain": [
       "0.7666666666666667"
      ]
     },
     "execution_count": 196,
     "metadata": {},
     "output_type": "execute_result"
    }
   ],
   "source": [
    "from sklearn import metrics\n",
    "bern_acc = metrics.accuracy_score(Y_test,bern_pred)\n",
    "bern_acc"
   ]
  },
  {
   "cell_type": "code",
   "execution_count": 197,
   "metadata": {},
   "outputs": [
    {
     "data": {
      "text/plain": [
       "0.7620033914728682"
      ]
     },
     "execution_count": 197,
     "metadata": {},
     "output_type": "execute_result"
    }
   ],
   "source": [
    "bern_f1 = metrics.f1_score(Y_test, bern_pred, average='weighted', labels=np.unique(bern_pred))\n",
    "bern_f1\n",
    "\n",
    "\n"
   ]
  },
  {
   "cell_type": "code",
   "execution_count": 198,
   "metadata": {},
   "outputs": [
    {
     "name": "stdout",
     "output_type": "stream",
     "text": [
      "             precision    recall  f1-score   support\n",
      "\n",
      "          0       0.71      0.90      0.80       152\n",
      "          1       0.86      0.63      0.73       148\n",
      "\n",
      "avg / total       0.79      0.77      0.76       300\n",
      "\n"
     ]
    }
   ],
   "source": [
    "from sklearn.metrics import classification_report \n",
    "\n",
    "print(classification_report(Y_test,bern_pred))"
   ]
  },
  {
   "cell_type": "code",
   "execution_count": 199,
   "metadata": {},
   "outputs": [
    {
     "name": "stdout",
     "output_type": "stream",
     "text": [
      "[[137  15]\n",
      " [ 55  93]]\n"
     ]
    }
   ],
   "source": [
    "from sklearn.metrics import confusion_matrix\n",
    "matrix = confusion_matrix(Y_test,bern_pred)\n",
    "print(matrix)"
   ]
  },
  {
   "cell_type": "markdown",
   "metadata": {},
   "source": [
    "### (3)Gaussain Naive Bayes:"
   ]
  },
  {
   "cell_type": "code",
   "execution_count": 200,
   "metadata": {},
   "outputs": [],
   "source": [
    "from sklearn.naive_bayes import GaussianNB\n"
   ]
  },
  {
   "cell_type": "code",
   "execution_count": 201,
   "metadata": {},
   "outputs": [
    {
     "data": {
      "text/plain": [
       "GaussianNB(priors=None)"
      ]
     },
     "execution_count": 201,
     "metadata": {},
     "output_type": "execute_result"
    }
   ],
   "source": [
    "\n",
    "gauss = GaussianNB()\n",
    "gauss.fit(X_train.todense(),Y_train)"
   ]
  },
  {
   "cell_type": "code",
   "execution_count": 202,
   "metadata": {},
   "outputs": [],
   "source": [
    "gauss_pred =  gauss.predict(X_test.todense())\n"
   ]
  },
  {
   "cell_type": "code",
   "execution_count": 203,
   "metadata": {},
   "outputs": [
    {
     "data": {
      "text/plain": [
       "0.6666666666666666"
      ]
     },
     "execution_count": 203,
     "metadata": {},
     "output_type": "execute_result"
    }
   ],
   "source": [
    "\n",
    "gauss_acc = metrics.accuracy_score(gauss_pred,Y_test)\n",
    "gauss_acc"
   ]
  },
  {
   "cell_type": "code",
   "execution_count": 204,
   "metadata": {},
   "outputs": [
    {
     "name": "stdout",
     "output_type": "stream",
     "text": [
      "             precision    recall  f1-score   support\n",
      "\n",
      "          0       0.79      0.64      0.71       188\n",
      "          1       0.54      0.71      0.62       112\n",
      "\n",
      "avg / total       0.70      0.67      0.67       300\n",
      "\n"
     ]
    }
   ],
   "source": [
    "print(classification_report(gauss_pred,Y_test))"
   ]
  },
  {
   "cell_type": "code",
   "execution_count": 205,
   "metadata": {},
   "outputs": [
    {
     "name": "stdout",
     "output_type": "stream",
     "text": [
      "[[120  32]\n",
      " [ 68  80]]\n"
     ]
    }
   ],
   "source": [
    "matrix = confusion_matrix(Y_test,gauss_pred)\n",
    "print(matrix)"
   ]
  },
  {
   "cell_type": "code",
   "execution_count": 206,
   "metadata": {},
   "outputs": [
    {
     "data": {
      "text/plain": [
       "0.6612368024132729"
      ]
     },
     "execution_count": 206,
     "metadata": {},
     "output_type": "execute_result"
    }
   ],
   "source": [
    "gauss_f1 = metrics.f1_score(Y_test, gauss_pred, average='weighted', labels=np.unique(gauss_pred))\n",
    "gauss_f1"
   ]
  },
  {
   "cell_type": "code",
   "execution_count": 207,
   "metadata": {},
   "outputs": [
    {
     "data": {
      "text/plain": [
       "KNeighborsClassifier(algorithm='auto', leaf_size=30, metric='minkowski',\n",
       "           metric_params=None, n_jobs=1, n_neighbors=5, p=2,\n",
       "           weights='uniform')"
      ]
     },
     "execution_count": 207,
     "metadata": {},
     "output_type": "execute_result"
    }
   ],
   "source": [
    "from sklearn.neighbors import KNeighborsClassifier\n",
    "KNN = KNeighborsClassifier()\n",
    "KNN.fit(X_train,Y_train)"
   ]
  },
  {
   "cell_type": "markdown",
   "metadata": {},
   "source": [
    "# KNeighborsClassifier:"
   ]
  },
  {
   "cell_type": "code",
   "execution_count": 208,
   "metadata": {},
   "outputs": [],
   "source": [
    "KNN_pred = KNN.predict(X_test)\n"
   ]
  },
  {
   "cell_type": "code",
   "execution_count": 209,
   "metadata": {},
   "outputs": [
    {
     "data": {
      "text/plain": [
       "0.6"
      ]
     },
     "execution_count": 209,
     "metadata": {},
     "output_type": "execute_result"
    }
   ],
   "source": [
    "\n",
    "KNN_acc = metrics.accuracy_score(Y_test,KNN_pred)\n",
    "KNN_acc"
   ]
  },
  {
   "cell_type": "code",
   "execution_count": 210,
   "metadata": {},
   "outputs": [
    {
     "data": {
      "text/plain": [
       "array([[107,  45],\n",
       "       [ 75,  73]], dtype=int64)"
      ]
     },
     "execution_count": 210,
     "metadata": {},
     "output_type": "execute_result"
    }
   ],
   "source": [
    "KNN_mat = confusion_matrix(Y_test, KNN_pred)\n",
    "KNN_mat"
   ]
  },
  {
   "cell_type": "code",
   "execution_count": 211,
   "metadata": {},
   "outputs": [
    {
     "name": "stdout",
     "output_type": "stream",
     "text": [
      "             precision    recall  f1-score   support\n",
      "\n",
      "          0       0.59      0.70      0.64       152\n",
      "          1       0.62      0.49      0.55       148\n",
      "\n",
      "avg / total       0.60      0.60      0.60       300\n",
      "\n"
     ]
    }
   ],
   "source": [
    "print(classification_report(Y_test, KNN_pred))"
   ]
  },
  {
   "cell_type": "code",
   "execution_count": 212,
   "metadata": {},
   "outputs": [
    {
     "data": {
      "text/plain": [
       "0.5954076808788438"
      ]
     },
     "execution_count": 212,
     "metadata": {},
     "output_type": "execute_result"
    }
   ],
   "source": [
    "KNN_f1 = metrics.f1_score(Y_test, KNN_pred, average='weighted', labels=np.unique(KNN_pred))\n",
    "KNN_f1"
   ]
  },
  {
   "cell_type": "markdown",
   "metadata": {},
   "source": [
    "# Support vector machine:"
   ]
  },
  {
   "cell_type": "code",
   "execution_count": 213,
   "metadata": {},
   "outputs": [],
   "source": [
    "from sklearn.svm import SVC"
   ]
  },
  {
   "cell_type": "markdown",
   "metadata": {},
   "source": [
    "### (1)Linear SVC:"
   ]
  },
  {
   "cell_type": "code",
   "execution_count": 214,
   "metadata": {},
   "outputs": [],
   "source": [
    "lsvc =SVC(kernel = \"linear\",degree=8)"
   ]
  },
  {
   "cell_type": "code",
   "execution_count": 215,
   "metadata": {},
   "outputs": [
    {
     "data": {
      "text/plain": [
       "SVC(C=1.0, cache_size=200, class_weight=None, coef0=0.0,\n",
       "  decision_function_shape='ovr', degree=8, gamma='auto', kernel='linear',\n",
       "  max_iter=-1, probability=False, random_state=None, shrinking=True,\n",
       "  tol=0.001, verbose=False)"
      ]
     },
     "execution_count": 215,
     "metadata": {},
     "output_type": "execute_result"
    }
   ],
   "source": [
    "lsvc.fit(X_train,Y_train)"
   ]
  },
  {
   "cell_type": "code",
   "execution_count": 216,
   "metadata": {},
   "outputs": [],
   "source": [
    "lsvc_pred = lsvc.predict(X_test)\n"
   ]
  },
  {
   "cell_type": "code",
   "execution_count": 217,
   "metadata": {},
   "outputs": [
    {
     "data": {
      "text/plain": [
       "0.7433333333333333"
      ]
     },
     "execution_count": 217,
     "metadata": {},
     "output_type": "execute_result"
    }
   ],
   "source": [
    "\n",
    "lsvc_acc = metrics.accuracy_score(Y_test,lsvc_pred)\n",
    "lsvc_acc"
   ]
  },
  {
   "cell_type": "code",
   "execution_count": 218,
   "metadata": {},
   "outputs": [
    {
     "name": "stdout",
     "output_type": "stream",
     "text": [
      "[[113  39]\n",
      " [ 38 110]]\n"
     ]
    }
   ],
   "source": [
    "matrix = confusion_matrix(Y_test,lsvc_pred)\n",
    "print(matrix)"
   ]
  },
  {
   "cell_type": "code",
   "execution_count": 219,
   "metadata": {},
   "outputs": [
    {
     "name": "stdout",
     "output_type": "stream",
     "text": [
      "             precision    recall  f1-score   support\n",
      "\n",
      "          0       0.75      0.74      0.75       152\n",
      "          1       0.74      0.74      0.74       148\n",
      "\n",
      "avg / total       0.74      0.74      0.74       300\n",
      "\n"
     ]
    }
   ],
   "source": [
    "print(classification_report(Y_test,lsvc_pred))"
   ]
  },
  {
   "cell_type": "code",
   "execution_count": 220,
   "metadata": {},
   "outputs": [
    {
     "data": {
      "text/plain": [
       "0.74334188974453"
      ]
     },
     "execution_count": 220,
     "metadata": {},
     "output_type": "execute_result"
    }
   ],
   "source": [
    "lsvc_f1 = metrics.f1_score(Y_test, lsvc_pred, average='weighted', labels=np.unique(lsvc_pred))\n",
    "lsvc_f1\n"
   ]
  },
  {
   "cell_type": "markdown",
   "metadata": {},
   "source": [
    "### (2)Poly SVC:"
   ]
  },
  {
   "cell_type": "code",
   "execution_count": 221,
   "metadata": {},
   "outputs": [],
   "source": [
    "psvc =SVC(kernel = \"poly\",degree= 8)\n"
   ]
  },
  {
   "cell_type": "code",
   "execution_count": 222,
   "metadata": {},
   "outputs": [
    {
     "data": {
      "text/plain": [
       "SVC(C=1.0, cache_size=200, class_weight=None, coef0=0.0,\n",
       "  decision_function_shape='ovr', degree=8, gamma='auto', kernel='poly',\n",
       "  max_iter=-1, probability=False, random_state=None, shrinking=True,\n",
       "  tol=0.001, verbose=False)"
      ]
     },
     "execution_count": 222,
     "metadata": {},
     "output_type": "execute_result"
    }
   ],
   "source": [
    "\n",
    "psvc.fit(X_train,Y_train)"
   ]
  },
  {
   "cell_type": "code",
   "execution_count": 223,
   "metadata": {},
   "outputs": [],
   "source": [
    "psvc_pred = psvc.predict(X_test)\n"
   ]
  },
  {
   "cell_type": "code",
   "execution_count": 224,
   "metadata": {},
   "outputs": [
    {
     "data": {
      "text/plain": [
       "0.49333333333333335"
      ]
     },
     "execution_count": 224,
     "metadata": {},
     "output_type": "execute_result"
    }
   ],
   "source": [
    "\n",
    "psvc_acc = metrics.accuracy_score(Y_test,psvc_pred)\n",
    "psvc_acc"
   ]
  },
  {
   "cell_type": "code",
   "execution_count": 225,
   "metadata": {},
   "outputs": [
    {
     "name": "stdout",
     "output_type": "stream",
     "text": [
      "[[  0 152]\n",
      " [  0 148]]\n"
     ]
    }
   ],
   "source": [
    "matrix = confusion_matrix(Y_test,psvc_pred)\n",
    "print(matrix)"
   ]
  },
  {
   "cell_type": "code",
   "execution_count": 226,
   "metadata": {},
   "outputs": [
    {
     "name": "stdout",
     "output_type": "stream",
     "text": [
      "             precision    recall  f1-score   support\n",
      "\n",
      "          0       0.00      0.00      0.00       152\n",
      "          1       0.49      1.00      0.66       148\n",
      "\n",
      "avg / total       0.24      0.49      0.33       300\n",
      "\n"
     ]
    },
    {
     "name": "stderr",
     "output_type": "stream",
     "text": [
      "C:\\Users\\pc\\Anaconda3\\lib\\site-packages\\sklearn\\metrics\\classification.py:1135: UndefinedMetricWarning: Precision and F-score are ill-defined and being set to 0.0 in labels with no predicted samples.\n",
      "  'precision', 'predicted', average, warn_for)\n"
     ]
    }
   ],
   "source": [
    "print(classification_report(Y_test,psvc_pred))"
   ]
  },
  {
   "cell_type": "code",
   "execution_count": 227,
   "metadata": {},
   "outputs": [
    {
     "data": {
      "text/plain": [
       "0.6607142857142857"
      ]
     },
     "execution_count": 227,
     "metadata": {},
     "output_type": "execute_result"
    }
   ],
   "source": [
    "psvc_f1 = metrics.f1_score(Y_test, psvc_pred, average='weighted', labels=np.unique(psvc_pred))\n",
    "psvc_f1"
   ]
  },
  {
   "cell_type": "markdown",
   "metadata": {},
   "source": [
    "### (3)Gaussian SVC:"
   ]
  },
  {
   "cell_type": "code",
   "execution_count": 228,
   "metadata": {},
   "outputs": [
    {
     "data": {
      "text/plain": [
       "SVC(C=1.0, cache_size=200, class_weight=None, coef0=0.0,\n",
       "  decision_function_shape='ovr', degree=3, gamma='auto', kernel='rbf',\n",
       "  max_iter=-1, probability=False, random_state=None, shrinking=True,\n",
       "  tol=0.001, verbose=False)"
      ]
     },
     "execution_count": 228,
     "metadata": {},
     "output_type": "execute_result"
    }
   ],
   "source": [
    "gsvc = SVC(kernel = 'rbf')\n",
    "gsvc.fit(X_train, Y_train)"
   ]
  },
  {
   "cell_type": "code",
   "execution_count": 229,
   "metadata": {},
   "outputs": [],
   "source": [
    "gsvc_pred = gsvc.predict(X_test)\n"
   ]
  },
  {
   "cell_type": "code",
   "execution_count": 230,
   "metadata": {},
   "outputs": [
    {
     "data": {
      "text/plain": [
       "0.49333333333333335"
      ]
     },
     "execution_count": 230,
     "metadata": {},
     "output_type": "execute_result"
    }
   ],
   "source": [
    "\n",
    "gsvc_acc = metrics.accuracy_score(gsvc_pred, Y_test)\n",
    "gsvc_acc"
   ]
  },
  {
   "cell_type": "code",
   "execution_count": 231,
   "metadata": {},
   "outputs": [
    {
     "data": {
      "text/plain": [
       "array([[  0, 152],\n",
       "       [  0, 148]], dtype=int64)"
      ]
     },
     "execution_count": 231,
     "metadata": {},
     "output_type": "execute_result"
    }
   ],
   "source": [
    "gsvc_mat = confusion_matrix(Y_test, gsvc_pred)\n",
    "gsvc_mat"
   ]
  },
  {
   "cell_type": "code",
   "execution_count": 232,
   "metadata": {},
   "outputs": [
    {
     "name": "stdout",
     "output_type": "stream",
     "text": [
      "             precision    recall  f1-score   support\n",
      "\n",
      "          0       0.00      0.00      0.00       152\n",
      "          1       0.49      1.00      0.66       148\n",
      "\n",
      "avg / total       0.24      0.49      0.33       300\n",
      "\n"
     ]
    },
    {
     "name": "stderr",
     "output_type": "stream",
     "text": [
      "C:\\Users\\pc\\Anaconda3\\lib\\site-packages\\sklearn\\metrics\\classification.py:1135: UndefinedMetricWarning: Precision and F-score are ill-defined and being set to 0.0 in labels with no predicted samples.\n",
      "  'precision', 'predicted', average, warn_for)\n"
     ]
    }
   ],
   "source": [
    "print(classification_report(Y_test, gsvc_pred))"
   ]
  },
  {
   "cell_type": "code",
   "execution_count": 233,
   "metadata": {},
   "outputs": [
    {
     "data": {
      "text/plain": [
       "0.6607142857142857"
      ]
     },
     "execution_count": 233,
     "metadata": {},
     "output_type": "execute_result"
    }
   ],
   "source": [
    "gsvc_f1 =  metrics.f1_score(Y_test, gsvc_pred, average='weighted', labels=np.unique(gsvc_pred))\n",
    "gsvc_f1"
   ]
  },
  {
   "cell_type": "markdown",
   "metadata": {},
   "source": [
    "# Decision Tree Classifier:"
   ]
  },
  {
   "cell_type": "code",
   "execution_count": 234,
   "metadata": {},
   "outputs": [],
   "source": [
    "from sklearn.tree import DecisionTreeClassifier\n"
   ]
  },
  {
   "cell_type": "code",
   "execution_count": 235,
   "metadata": {},
   "outputs": [
    {
     "data": {
      "text/plain": [
       "DecisionTreeClassifier(class_weight=None, criterion='gini', max_depth=None,\n",
       "            max_features=None, max_leaf_nodes=None,\n",
       "            min_impurity_decrease=0.0, min_impurity_split=None,\n",
       "            min_samples_leaf=1, min_samples_split=2,\n",
       "            min_weight_fraction_leaf=0.0, presort=False, random_state=None,\n",
       "            splitter='best')"
      ]
     },
     "execution_count": 235,
     "metadata": {},
     "output_type": "execute_result"
    }
   ],
   "source": [
    "\n",
    "dtree = DecisionTreeClassifier()\n",
    "dtree.fit(X_train, Y_train)"
   ]
  },
  {
   "cell_type": "code",
   "execution_count": 236,
   "metadata": {},
   "outputs": [],
   "source": [
    "dtree_pred = dtree.predict(X_test)\n"
   ]
  },
  {
   "cell_type": "code",
   "execution_count": 237,
   "metadata": {},
   "outputs": [
    {
     "data": {
      "text/plain": [
       "0.64"
      ]
     },
     "execution_count": 237,
     "metadata": {},
     "output_type": "execute_result"
    }
   ],
   "source": [
    "\n",
    "dtree_acc = metrics.accuracy_score(Y_test, dtree_pred)\n",
    "dtree_acc"
   ]
  },
  {
   "cell_type": "code",
   "execution_count": 238,
   "metadata": {},
   "outputs": [
    {
     "data": {
      "text/plain": [
       "array([[94, 58],\n",
       "       [50, 98]], dtype=int64)"
      ]
     },
     "execution_count": 238,
     "metadata": {},
     "output_type": "execute_result"
    }
   ],
   "source": [
    "dtree_mat = confusion_matrix(Y_test, dtree_pred)\n",
    "dtree_mat"
   ]
  },
  {
   "cell_type": "code",
   "execution_count": 239,
   "metadata": {},
   "outputs": [
    {
     "name": "stdout",
     "output_type": "stream",
     "text": [
      "             precision    recall  f1-score   support\n",
      "\n",
      "          0       0.65      0.62      0.64       152\n",
      "          1       0.63      0.66      0.64       148\n",
      "\n",
      "avg / total       0.64      0.64      0.64       300\n",
      "\n"
     ]
    }
   ],
   "source": [
    "print(classification_report(Y_test, dtree_pred))"
   ]
  },
  {
   "cell_type": "code",
   "execution_count": 240,
   "metadata": {},
   "outputs": [
    {
     "data": {
      "text/plain": [
       "0.644736842105263"
      ]
     },
     "execution_count": 240,
     "metadata": {},
     "output_type": "execute_result"
    }
   ],
   "source": [
    "dtree_f1 = metrics.f1_score(Y_test, dtree_pred)\n",
    "dtree_f1"
   ]
  },
  {
   "cell_type": "markdown",
   "metadata": {},
   "source": [
    "# Random Forest Classifier:"
   ]
  },
  {
   "cell_type": "code",
   "execution_count": 241,
   "metadata": {},
   "outputs": [],
   "source": [
    "from sklearn.ensemble import RandomForestClassifier\n",
    "ran = RandomForestClassifier(n_estimators=100, n_jobs=2, random_state=7)\n"
   ]
  },
  {
   "cell_type": "code",
   "execution_count": 242,
   "metadata": {},
   "outputs": [
    {
     "data": {
      "text/plain": [
       "RandomForestClassifier(bootstrap=True, class_weight=None, criterion='gini',\n",
       "            max_depth=None, max_features='auto', max_leaf_nodes=None,\n",
       "            min_impurity_decrease=0.0, min_impurity_split=None,\n",
       "            min_samples_leaf=1, min_samples_split=2,\n",
       "            min_weight_fraction_leaf=0.0, n_estimators=100, n_jobs=2,\n",
       "            oob_score=False, random_state=7, verbose=0, warm_start=False)"
      ]
     },
     "execution_count": 242,
     "metadata": {},
     "output_type": "execute_result"
    }
   ],
   "source": [
    "ran.fit(X_train , Y_train)"
   ]
  },
  {
   "cell_type": "code",
   "execution_count": 243,
   "metadata": {},
   "outputs": [],
   "source": [
    "ran_pred = ran.predict(X_test)\n"
   ]
  },
  {
   "cell_type": "code",
   "execution_count": 244,
   "metadata": {},
   "outputs": [
    {
     "data": {
      "text/plain": [
       "0.7166666666666667"
      ]
     },
     "execution_count": 244,
     "metadata": {},
     "output_type": "execute_result"
    }
   ],
   "source": [
    "\n",
    "ran_acc = metrics.accuracy_score(Y_test, ran_pred)\n",
    "ran_acc"
   ]
  },
  {
   "cell_type": "code",
   "execution_count": 245,
   "metadata": {},
   "outputs": [
    {
     "data": {
      "text/plain": [
       "array([[113,  39],\n",
       "       [ 46, 102]], dtype=int64)"
      ]
     },
     "execution_count": 245,
     "metadata": {},
     "output_type": "execute_result"
    }
   ],
   "source": [
    "ran_mat = confusion_matrix(Y_test, ran_pred)\n",
    "ran_mat"
   ]
  },
  {
   "cell_type": "code",
   "execution_count": 246,
   "metadata": {},
   "outputs": [
    {
     "name": "stdout",
     "output_type": "stream",
     "text": [
      "             precision    recall  f1-score   support\n",
      "\n",
      "          0       0.71      0.74      0.73       152\n",
      "          1       0.72      0.69      0.71       148\n",
      "\n",
      "avg / total       0.72      0.72      0.72       300\n",
      "\n"
     ]
    }
   ],
   "source": [
    "print(classification_report(Y_test, ran_pred))"
   ]
  },
  {
   "cell_type": "code",
   "execution_count": 247,
   "metadata": {},
   "outputs": [
    {
     "data": {
      "text/plain": [
       "0.7058823529411765"
      ]
     },
     "execution_count": 247,
     "metadata": {},
     "output_type": "execute_result"
    }
   ],
   "source": [
    "ran_f1 = metrics.f1_score(Y_test, ran_pred)\n",
    "ran_f1"
   ]
  },
  {
   "cell_type": "markdown",
   "metadata": {},
   "source": [
    "# Voting Classifier:"
   ]
  },
  {
   "cell_type": "code",
   "execution_count": 248,
   "metadata": {},
   "outputs": [],
   "source": [
    "from sklearn.linear_model import LogisticRegression\n",
    "from sklearn.svm import SVC\n",
    "from sklearn.cluster import KMeans\n",
    "from sklearn.neighbors import KNeighborsClassifier\n",
    "from sklearn.ensemble import VotingClassifier"
   ]
  },
  {
   "cell_type": "code",
   "execution_count": 249,
   "metadata": {},
   "outputs": [],
   "source": [
    "estimators =[]\n",
    "model = LogisticRegression()\n",
    "estimators.append(('logistic',model))\n",
    "model1 = SVC(kernel = 'rbf')\n",
    "estimators.append(('SVC',model1))\n",
    "model2 = KMeans()\n",
    "estimators.append(('KMeans',model2))\n",
    "model3 = KNeighborsClassifier()\n",
    "estimators.append(('KNN',model3))\n",
    "voting = VotingClassifier(estimators)"
   ]
  },
  {
   "cell_type": "code",
   "execution_count": 250,
   "metadata": {},
   "outputs": [
    {
     "data": {
      "text/plain": [
       "VotingClassifier(estimators=[('logistic', LogisticRegression(C=1.0, class_weight=None, dual=False, fit_intercept=True,\n",
       "          intercept_scaling=1, max_iter=100, multi_class='ovr', n_jobs=1,\n",
       "          penalty='l2', random_state=None, solver='liblinear', tol=0.0001,\n",
       "          verbose=0, warm_start=False)), ('SVC', ...owski',\n",
       "           metric_params=None, n_jobs=1, n_neighbors=5, p=2,\n",
       "           weights='uniform'))],\n",
       "         flatten_transform=None, n_jobs=1, voting='hard', weights=None)"
      ]
     },
     "execution_count": 250,
     "metadata": {},
     "output_type": "execute_result"
    }
   ],
   "source": [
    "voting.fit(X_train, Y_train)"
   ]
  },
  {
   "cell_type": "code",
   "execution_count": 251,
   "metadata": {},
   "outputs": [
    {
     "name": "stderr",
     "output_type": "stream",
     "text": [
      "C:\\Users\\pc\\Anaconda3\\lib\\site-packages\\sklearn\\preprocessing\\label.py:151: DeprecationWarning: The truth value of an empty array is ambiguous. Returning False, but in future this will result in an error. Use `array.size > 0` to check that an array is not empty.\n",
      "  if diff:\n"
     ]
    }
   ],
   "source": [
    "voting_pred = voting.predict(X_test)"
   ]
  },
  {
   "cell_type": "code",
   "execution_count": 252,
   "metadata": {},
   "outputs": [
    {
     "data": {
      "text/plain": [
       "0.7"
      ]
     },
     "execution_count": 252,
     "metadata": {},
     "output_type": "execute_result"
    }
   ],
   "source": [
    "voting_acc = metrics.accuracy_score(Y_test,voting_pred)\n",
    "voting_acc"
   ]
  },
  {
   "cell_type": "code",
   "execution_count": 253,
   "metadata": {},
   "outputs": [
    {
     "data": {
      "text/plain": [
       "array([[ 91,  61],\n",
       "       [ 29, 119]], dtype=int64)"
      ]
     },
     "execution_count": 253,
     "metadata": {},
     "output_type": "execute_result"
    }
   ],
   "source": [
    "voting_mat = confusion_matrix(Y_test, voting_pred)\n",
    "voting_mat\n"
   ]
  },
  {
   "cell_type": "code",
   "execution_count": 254,
   "metadata": {},
   "outputs": [
    {
     "name": "stdout",
     "output_type": "stream",
     "text": [
      "             precision    recall  f1-score   support\n",
      "\n",
      "          0       0.76      0.60      0.67       152\n",
      "          1       0.66      0.80      0.73       148\n",
      "\n",
      "avg / total       0.71      0.70      0.70       300\n",
      "\n"
     ]
    }
   ],
   "source": [
    "print(classification_report(Y_test, voting_pred))"
   ]
  },
  {
   "cell_type": "code",
   "execution_count": 255,
   "metadata": {},
   "outputs": [
    {
     "data": {
      "text/plain": [
       "0.7256097560975611"
      ]
     },
     "execution_count": 255,
     "metadata": {},
     "output_type": "execute_result"
    }
   ],
   "source": [
    "voting_f1 = metrics.f1_score(Y_test, voting_pred)\n",
    "voting_f1"
   ]
  },
  {
   "cell_type": "markdown",
   "metadata": {},
   "source": [
    "# BaggingClassifier:"
   ]
  },
  {
   "cell_type": "code",
   "execution_count": 256,
   "metadata": {},
   "outputs": [],
   "source": [
    "from sklearn.ensemble import BaggingClassifier\n"
   ]
  },
  {
   "cell_type": "code",
   "execution_count": 257,
   "metadata": {},
   "outputs": [
    {
     "data": {
      "text/plain": [
       "BaggingClassifier(base_estimator=None, bootstrap=True,\n",
       "         bootstrap_features=False, max_features=1.0, max_samples=1.0,\n",
       "         n_estimators=30, n_jobs=1, oob_score=False, random_state=7,\n",
       "         verbose=1, warm_start=False)"
      ]
     },
     "execution_count": 257,
     "metadata": {},
     "output_type": "execute_result"
    }
   ],
   "source": [
    "bagg=BaggingClassifier(n_estimators=30,random_state=7,verbose=1)\n",
    "bagg"
   ]
  },
  {
   "cell_type": "code",
   "execution_count": 258,
   "metadata": {},
   "outputs": [
    {
     "name": "stderr",
     "output_type": "stream",
     "text": [
      "[Parallel(n_jobs=1)]: Done   1 out of   1 | elapsed:    4.5s finished\n"
     ]
    },
    {
     "data": {
      "text/plain": [
       "BaggingClassifier(base_estimator=None, bootstrap=True,\n",
       "         bootstrap_features=False, max_features=1.0, max_samples=1.0,\n",
       "         n_estimators=30, n_jobs=1, oob_score=False, random_state=7,\n",
       "         verbose=1, warm_start=False)"
      ]
     },
     "execution_count": 258,
     "metadata": {},
     "output_type": "execute_result"
    }
   ],
   "source": [
    "bagg.fit(X_train,Y_train)"
   ]
  },
  {
   "cell_type": "code",
   "execution_count": 259,
   "metadata": {},
   "outputs": [
    {
     "name": "stderr",
     "output_type": "stream",
     "text": [
      "[Parallel(n_jobs=1)]: Done   1 out of   1 | elapsed:    0.0s finished\n"
     ]
    },
    {
     "data": {
      "text/plain": [
       "array([1, 0, 0, 0, 0, 0, 0, 0, 0, 1, 1, 1, 0, 1, 1, 0, 1, 0, 1, 0, 0, 1,\n",
       "       0, 0, 0, 0, 0, 1, 0, 0, 1, 1, 0, 1, 0, 1, 1, 1, 1, 0, 1, 0, 0, 0,\n",
       "       0, 0, 0, 0, 1, 1, 0, 0, 0, 0, 1, 1, 1, 1, 0, 1, 0, 0, 0, 1, 0, 0,\n",
       "       1, 0, 1, 1, 0, 0, 0, 0, 1, 1, 1, 0, 1, 1, 1, 1, 0, 0, 1, 1, 1, 0,\n",
       "       1, 1, 0, 0, 1, 0, 1, 1, 1, 1, 1, 1, 1, 1, 1, 0, 1, 0, 1, 1, 0, 0,\n",
       "       1, 1, 1, 1, 0, 1, 0, 1, 1, 1, 0, 1, 0, 1, 1, 0, 0, 0, 1, 0, 1, 1,\n",
       "       1, 1, 0, 1, 0, 0, 0, 0, 1, 1, 0, 1, 0, 1, 0, 1, 0, 0, 1, 1, 1, 0,\n",
       "       0, 1, 1, 1, 0, 0, 1, 1, 0, 1, 0, 1, 0, 1, 0, 0, 1, 0, 0, 1, 0, 0,\n",
       "       0, 0, 1, 0, 0, 0, 1, 1, 1, 0, 0, 0, 0, 0, 0, 0, 1, 0, 0, 0, 1, 0,\n",
       "       1, 0, 1, 1, 0, 0, 1, 0, 0, 0, 0, 0, 0, 1, 1, 0, 0, 1, 0, 0, 0, 1,\n",
       "       1, 0, 0, 0, 1, 1, 0, 0, 0, 0, 0, 0, 1, 0, 0, 1, 1, 0, 1, 1, 1, 0,\n",
       "       1, 1, 0, 1, 0, 0, 1, 0, 0, 0, 0, 0, 1, 1, 1, 1, 1, 1, 0, 1, 0, 1,\n",
       "       1, 1, 0, 0, 0, 1, 1, 1, 1, 0, 0, 0, 1, 1, 1, 0, 0, 0, 0, 0, 0, 1,\n",
       "       1, 1, 1, 1, 0, 0, 0, 1, 0, 1, 1, 0, 1, 0])"
      ]
     },
     "execution_count": 259,
     "metadata": {},
     "output_type": "execute_result"
    }
   ],
   "source": [
    "bagg_pred=bagg.predict(X_test)\n",
    "bagg_pred"
   ]
  },
  {
   "cell_type": "code",
   "execution_count": 260,
   "metadata": {},
   "outputs": [
    {
     "data": {
      "text/plain": [
       "0.6933333333333334"
      ]
     },
     "execution_count": 260,
     "metadata": {},
     "output_type": "execute_result"
    }
   ],
   "source": [
    "bagg_acc = metrics.accuracy_score(Y_test,bagg_pred)\n",
    "bagg_acc"
   ]
  },
  {
   "cell_type": "code",
   "execution_count": 261,
   "metadata": {},
   "outputs": [
    {
     "data": {
      "text/plain": [
       "array([[109,  43],\n",
       "       [ 49,  99]], dtype=int64)"
      ]
     },
     "execution_count": 261,
     "metadata": {},
     "output_type": "execute_result"
    }
   ],
   "source": [
    "bagg_mat = confusion_matrix(Y_test, bagg_pred)\n",
    "bagg_mat"
   ]
  },
  {
   "cell_type": "code",
   "execution_count": 262,
   "metadata": {},
   "outputs": [
    {
     "name": "stdout",
     "output_type": "stream",
     "text": [
      "             precision    recall  f1-score   support\n",
      "\n",
      "          0       0.69      0.72      0.70       152\n",
      "          1       0.70      0.67      0.68       148\n",
      "\n",
      "avg / total       0.69      0.69      0.69       300\n",
      "\n"
     ]
    }
   ],
   "source": [
    "print(classification_report(Y_test, bagg_pred))"
   ]
  },
  {
   "cell_type": "code",
   "execution_count": 263,
   "metadata": {},
   "outputs": [
    {
     "data": {
      "text/plain": [
       "0.6827586206896551"
      ]
     },
     "execution_count": 263,
     "metadata": {},
     "output_type": "execute_result"
    }
   ],
   "source": [
    "bagg_f1 = metrics.f1_score(Y_test, bagg_pred)\n",
    "bagg_f1"
   ]
  },
  {
   "cell_type": "markdown",
   "metadata": {},
   "source": [
    "# GradientBoostingClassifier:"
   ]
  },
  {
   "cell_type": "code",
   "execution_count": 264,
   "metadata": {},
   "outputs": [],
   "source": [
    "from sklearn.ensemble import GradientBoostingClassifier"
   ]
  },
  {
   "cell_type": "code",
   "execution_count": 265,
   "metadata": {},
   "outputs": [
    {
     "data": {
      "text/plain": [
       "GradientBoostingClassifier(criterion='friedman_mse', init=None,\n",
       "              learning_rate=0.1, loss='deviance', max_depth=3,\n",
       "              max_features=None, max_leaf_nodes=None,\n",
       "              min_impurity_decrease=0.0, min_impurity_split=None,\n",
       "              min_samples_leaf=1, min_samples_split=2,\n",
       "              min_weight_fraction_leaf=0.0, n_estimators=30,\n",
       "              presort='auto', random_state=7, subsample=1.0, verbose=1,\n",
       "              warm_start=False)"
      ]
     },
     "execution_count": 265,
     "metadata": {},
     "output_type": "execute_result"
    }
   ],
   "source": [
    "grad=GradientBoostingClassifier(n_estimators=30,random_state=7,verbose=1)\n",
    "grad"
   ]
  },
  {
   "cell_type": "code",
   "execution_count": 266,
   "metadata": {},
   "outputs": [
    {
     "name": "stdout",
     "output_type": "stream",
     "text": [
      "      Iter       Train Loss   Remaining Time \n",
      "         1           1.3631            9.28s\n",
      "         2           1.3453            4.94s\n",
      "         3           1.3302            3.38s\n",
      "         4           1.3145            2.54s\n",
      "         5           1.3024            2.11s\n",
      "         6           1.2904            1.75s\n",
      "         7           1.2795            1.54s\n",
      "         8           1.2704            1.33s\n",
      "         9           1.2596            1.20s\n",
      "        10           1.2524            1.06s\n",
      "        20           1.1813            0.40s\n",
      "        30           1.1260            0.00s\n"
     ]
    },
    {
     "data": {
      "text/plain": [
       "GradientBoostingClassifier(criterion='friedman_mse', init=None,\n",
       "              learning_rate=0.1, loss='deviance', max_depth=3,\n",
       "              max_features=None, max_leaf_nodes=None,\n",
       "              min_impurity_decrease=0.0, min_impurity_split=None,\n",
       "              min_samples_leaf=1, min_samples_split=2,\n",
       "              min_weight_fraction_leaf=0.0, n_estimators=30,\n",
       "              presort='auto', random_state=7, subsample=1.0, verbose=1,\n",
       "              warm_start=False)"
      ]
     },
     "execution_count": 266,
     "metadata": {},
     "output_type": "execute_result"
    }
   ],
   "source": [
    "\n",
    "grad.fit(X_train,Y_train)"
   ]
  },
  {
   "cell_type": "code",
   "execution_count": 267,
   "metadata": {},
   "outputs": [],
   "source": [
    "grad_pred = grad.predict(X_test)"
   ]
  },
  {
   "cell_type": "code",
   "execution_count": 268,
   "metadata": {},
   "outputs": [
    {
     "data": {
      "text/plain": [
       "0.66"
      ]
     },
     "execution_count": 268,
     "metadata": {},
     "output_type": "execute_result"
    }
   ],
   "source": [
    "grad_acc = metrics.accuracy_score(Y_test,grad_pred)\n",
    "grad_acc"
   ]
  },
  {
   "cell_type": "code",
   "execution_count": 269,
   "metadata": {},
   "outputs": [
    {
     "data": {
      "text/plain": [
       "array([[110,  42],\n",
       "       [ 60,  88]], dtype=int64)"
      ]
     },
     "execution_count": 269,
     "metadata": {},
     "output_type": "execute_result"
    }
   ],
   "source": [
    "grad_mat = confusion_matrix(Y_test, grad_pred)\n",
    "grad_mat"
   ]
  },
  {
   "cell_type": "code",
   "execution_count": 270,
   "metadata": {},
   "outputs": [
    {
     "name": "stdout",
     "output_type": "stream",
     "text": [
      "             precision    recall  f1-score   support\n",
      "\n",
      "          0       0.65      0.72      0.68       152\n",
      "          1       0.68      0.59      0.63       148\n",
      "\n",
      "avg / total       0.66      0.66      0.66       300\n",
      "\n"
     ]
    }
   ],
   "source": [
    "print(classification_report(Y_test, grad_pred))"
   ]
  },
  {
   "cell_type": "code",
   "execution_count": 271,
   "metadata": {},
   "outputs": [
    {
     "data": {
      "text/plain": [
       "0.6330935251798562"
      ]
     },
     "execution_count": 271,
     "metadata": {},
     "output_type": "execute_result"
    }
   ],
   "source": [
    "grad_f1 = metrics.f1_score(Y_test, grad_pred)\n",
    "grad_f1\n"
   ]
  },
  {
   "cell_type": "code",
   "execution_count": 272,
   "metadata": {},
   "outputs": [],
   "source": [
    "Algo_name = [\"Multinolmial Naive Bayes\",\"Bernoulli Naive Bayes\",\"Gaussain Naive Bayes\",\"KNN\",\"Linear SVC\",\"Poly SVC\",\n",
    "             \"Gaussian SVC\",\"Decision Tree Classifier\",\"Random Forest Classifier\",\"Voting Classifier\",\"BaggingClassifier\",\"GradientBoostingClassifier\"]\n",
    "f1_score = [multi_f1,bern_f1,gauss_f1,KNN_f1,lsvc_f1,psvc_f1,gsvc_f1,dtree_f1,ran_f1,voting_f1,bagg_f1,grad_f1]"
   ]
  },
  {
   "cell_type": "code",
   "execution_count": 273,
   "metadata": {},
   "outputs": [
    {
     "data": {
      "text/html": [
       "<div>\n",
       "<style scoped>\n",
       "    .dataframe tbody tr th:only-of-type {\n",
       "        vertical-align: middle;\n",
       "    }\n",
       "\n",
       "    .dataframe tbody tr th {\n",
       "        vertical-align: top;\n",
       "    }\n",
       "\n",
       "    .dataframe thead th {\n",
       "        text-align: right;\n",
       "    }\n",
       "</style>\n",
       "<table border=\"1\" class=\"dataframe\">\n",
       "  <thead>\n",
       "    <tr style=\"text-align: right;\">\n",
       "      <th></th>\n",
       "      <th>Algorithms</th>\n",
       "      <th>F1_score</th>\n",
       "    </tr>\n",
       "  </thead>\n",
       "  <tbody>\n",
       "    <tr>\n",
       "      <th>1</th>\n",
       "      <td>Multinolmial Naive Bayes</td>\n",
       "      <td>0.785723</td>\n",
       "    </tr>\n",
       "    <tr>\n",
       "      <th>2</th>\n",
       "      <td>Bernoulli Naive Bayes</td>\n",
       "      <td>0.762003</td>\n",
       "    </tr>\n",
       "    <tr>\n",
       "      <th>3</th>\n",
       "      <td>Gaussain Naive Bayes</td>\n",
       "      <td>0.661237</td>\n",
       "    </tr>\n",
       "    <tr>\n",
       "      <th>4</th>\n",
       "      <td>KNN</td>\n",
       "      <td>0.595408</td>\n",
       "    </tr>\n",
       "    <tr>\n",
       "      <th>5</th>\n",
       "      <td>Linear SVC</td>\n",
       "      <td>0.743342</td>\n",
       "    </tr>\n",
       "    <tr>\n",
       "      <th>6</th>\n",
       "      <td>Poly SVC</td>\n",
       "      <td>0.660714</td>\n",
       "    </tr>\n",
       "    <tr>\n",
       "      <th>7</th>\n",
       "      <td>Gaussian SVC</td>\n",
       "      <td>0.660714</td>\n",
       "    </tr>\n",
       "    <tr>\n",
       "      <th>8</th>\n",
       "      <td>Decision Tree Classifier</td>\n",
       "      <td>0.644737</td>\n",
       "    </tr>\n",
       "    <tr>\n",
       "      <th>9</th>\n",
       "      <td>Random Forest Classifier</td>\n",
       "      <td>0.705882</td>\n",
       "    </tr>\n",
       "    <tr>\n",
       "      <th>10</th>\n",
       "      <td>Voting Classifier</td>\n",
       "      <td>0.725610</td>\n",
       "    </tr>\n",
       "    <tr>\n",
       "      <th>11</th>\n",
       "      <td>BaggingClassifier</td>\n",
       "      <td>0.682759</td>\n",
       "    </tr>\n",
       "    <tr>\n",
       "      <th>12</th>\n",
       "      <td>GradientBoostingClassifier</td>\n",
       "      <td>0.633094</td>\n",
       "    </tr>\n",
       "  </tbody>\n",
       "</table>\n",
       "</div>"
      ],
      "text/plain": [
       "                    Algorithms  F1_score\n",
       "1     Multinolmial Naive Bayes  0.785723\n",
       "2        Bernoulli Naive Bayes  0.762003\n",
       "3         Gaussain Naive Bayes  0.661237\n",
       "4                          KNN  0.595408\n",
       "5                   Linear SVC  0.743342\n",
       "6                     Poly SVC  0.660714\n",
       "7                 Gaussian SVC  0.660714\n",
       "8     Decision Tree Classifier  0.644737\n",
       "9     Random Forest Classifier  0.705882\n",
       "10           Voting Classifier  0.725610\n",
       "11           BaggingClassifier  0.682759\n",
       "12  GradientBoostingClassifier  0.633094"
      ]
     },
     "execution_count": 273,
     "metadata": {},
     "output_type": "execute_result"
    }
   ],
   "source": [
    "res = pd.DataFrame({\"Algorithms\":Algo_name, \"F1_score\":f1_score }, index = [1,2,3,4,5,6,7,8,9,10,11,12])\n",
    "res"
   ]
  },
  {
   "cell_type": "code",
   "execution_count": 274,
   "metadata": {},
   "outputs": [],
   "source": [
    "Algo_name = [\"Multinolmial Naive Bayes\",\"Bernoulli Naive Bayes\",\"Gaussain Naive Bayes\",\"KNN\",\"Linear SVC\",\"Poly SVC\",\n",
    "             \"Gaussian SVC\",\"Decision Tree Classifier\",\"Random Forest Classifier\",\"Voting Classifier\",\"BaggingClassifier\",\"GradientBoostingClassifier\"]\n",
    "accuracy = [multi_acc,bern_acc,gauss_acc,KNN_acc,lsvc_acc,psvc_acc,gsvc_acc,dtree_acc,ran_acc,voting_acc,bagg_acc,grad_acc]"
   ]
  },
  {
   "cell_type": "code",
   "execution_count": 275,
   "metadata": {},
   "outputs": [
    {
     "data": {
      "text/html": [
       "<div>\n",
       "<style scoped>\n",
       "    .dataframe tbody tr th:only-of-type {\n",
       "        vertical-align: middle;\n",
       "    }\n",
       "\n",
       "    .dataframe tbody tr th {\n",
       "        vertical-align: top;\n",
       "    }\n",
       "\n",
       "    .dataframe thead th {\n",
       "        text-align: right;\n",
       "    }\n",
       "</style>\n",
       "<table border=\"1\" class=\"dataframe\">\n",
       "  <thead>\n",
       "    <tr style=\"text-align: right;\">\n",
       "      <th></th>\n",
       "      <th>Algorithms</th>\n",
       "      <th>Accuracy</th>\n",
       "    </tr>\n",
       "  </thead>\n",
       "  <tbody>\n",
       "    <tr>\n",
       "      <th>1</th>\n",
       "      <td>Multinolmial Naive Bayes</td>\n",
       "      <td>0.786667</td>\n",
       "    </tr>\n",
       "    <tr>\n",
       "      <th>2</th>\n",
       "      <td>Bernoulli Naive Bayes</td>\n",
       "      <td>0.766667</td>\n",
       "    </tr>\n",
       "    <tr>\n",
       "      <th>3</th>\n",
       "      <td>Gaussain Naive Bayes</td>\n",
       "      <td>0.666667</td>\n",
       "    </tr>\n",
       "    <tr>\n",
       "      <th>4</th>\n",
       "      <td>KNN</td>\n",
       "      <td>0.600000</td>\n",
       "    </tr>\n",
       "    <tr>\n",
       "      <th>5</th>\n",
       "      <td>Linear SVC</td>\n",
       "      <td>0.743333</td>\n",
       "    </tr>\n",
       "    <tr>\n",
       "      <th>6</th>\n",
       "      <td>Poly SVC</td>\n",
       "      <td>0.493333</td>\n",
       "    </tr>\n",
       "    <tr>\n",
       "      <th>7</th>\n",
       "      <td>Gaussian SVC</td>\n",
       "      <td>0.493333</td>\n",
       "    </tr>\n",
       "    <tr>\n",
       "      <th>8</th>\n",
       "      <td>Decision Tree Classifier</td>\n",
       "      <td>0.640000</td>\n",
       "    </tr>\n",
       "    <tr>\n",
       "      <th>9</th>\n",
       "      <td>Random Forest Classifier</td>\n",
       "      <td>0.716667</td>\n",
       "    </tr>\n",
       "    <tr>\n",
       "      <th>10</th>\n",
       "      <td>Voting Classifier</td>\n",
       "      <td>0.700000</td>\n",
       "    </tr>\n",
       "    <tr>\n",
       "      <th>11</th>\n",
       "      <td>BaggingClassifier</td>\n",
       "      <td>0.693333</td>\n",
       "    </tr>\n",
       "    <tr>\n",
       "      <th>12</th>\n",
       "      <td>GradientBoostingClassifier</td>\n",
       "      <td>0.660000</td>\n",
       "    </tr>\n",
       "  </tbody>\n",
       "</table>\n",
       "</div>"
      ],
      "text/plain": [
       "                    Algorithms  Accuracy\n",
       "1     Multinolmial Naive Bayes  0.786667\n",
       "2        Bernoulli Naive Bayes  0.766667\n",
       "3         Gaussain Naive Bayes  0.666667\n",
       "4                          KNN  0.600000\n",
       "5                   Linear SVC  0.743333\n",
       "6                     Poly SVC  0.493333\n",
       "7                 Gaussian SVC  0.493333\n",
       "8     Decision Tree Classifier  0.640000\n",
       "9     Random Forest Classifier  0.716667\n",
       "10           Voting Classifier  0.700000\n",
       "11           BaggingClassifier  0.693333\n",
       "12  GradientBoostingClassifier  0.660000"
      ]
     },
     "execution_count": 275,
     "metadata": {},
     "output_type": "execute_result"
    }
   ],
   "source": [
    "res2 = pd.DataFrame({\"Algorithms\":Algo_name, \"Accuracy\":accuracy}, index = [1,2,3,4,5,6,7,8,9,10,11,12])\n",
    "res2"
   ]
  },
  {
   "cell_type": "markdown",
   "metadata": {},
   "source": [
    "# VISUALIZATION OF CLASSIFIERS:"
   ]
  },
  {
   "cell_type": "code",
   "execution_count": 276,
   "metadata": {},
   "outputs": [],
   "source": [
    "a=[\"Multinolmial NB\",\"Bernoulli NB\",\"Gaussain NB\",\"KNN\",\"Linear SVC\",\"Poly SVC\"]"
   ]
  },
  {
   "cell_type": "code",
   "execution_count": 277,
   "metadata": {},
   "outputs": [],
   "source": [
    "\n",
    "b=[80,70,60,50,75,62]"
   ]
  },
  {
   "cell_type": "code",
   "execution_count": 278,
   "metadata": {},
   "outputs": [
    {
     "data": {
      "image/png": "[encoded data removed]",
      "text/plain": [
       "<Figure size 432x288 with 1 Axes>"
      ]
     },
     "metadata": {},
     "output_type": "display_data"
    }
   ],
   "source": [
    "plt.scatter(x=a,y=b)\n",
    "plt.grid()\n",
    "plt.title('Algorithm Accuracy Comparision')\n",
    "plt.xlabel('Algorithm')\n",
    "plt.ylabel('score in %')\n",
    "plt.show()"
   ]
  },
  {
   "cell_type": "code",
   "execution_count": 279,
   "metadata": {},
   "outputs": [],
   "source": [
    "import seaborn as sns"
   ]
  },
  {
   "cell_type": "code",
   "execution_count": 280,
   "metadata": {},
   "outputs": [
    {
     "data": {
      "text/plain": [
       "<matplotlib.axes._subplots.AxesSubplot at 0xb75efb0>"
      ]
     },
     "execution_count": 280,
     "metadata": {},
     "output_type": "execute_result"
    },
    {
     "data": {
      "image/png": "[encoded data removed]",
      "text/plain": [
       "<Figure size 432x288 with 1 Axes>"
      ]
     },
     "metadata": {},
     "output_type": "display_data"
    }
   ],
   "source": [
    "sns.barplot(x=a,y=b)"
   ]
  },
  {
   "cell_type": "code",
   "execution_count": 281,
   "metadata": {},
   "outputs": [],
   "source": [
    "c=[\"GaussianSVC\",\"DecisionTree\",\"RandomForest\",\"VotingClassifier\",\"Bagging\",\"GradientBoosting\"]"
   ]
  },
  {
   "cell_type": "code",
   "execution_count": 282,
   "metadata": {},
   "outputs": [],
   "source": [
    "d=[60,60,70,75,40,50]"
   ]
  },
  {
   "cell_type": "code",
   "execution_count": 283,
   "metadata": {},
   "outputs": [
    {
     "data": {
      "image/png": "[encoded data removed]",
      "text/plain": [
       "<Figure size 432x288 with 1 Axes>"
      ]
     },
     "metadata": {},
     "output_type": "display_data"
    }
   ],
   "source": [
    "plt.scatter(x=c,y=d)\n",
    "plt.grid()\n",
    "plt.title('Algorithm Accuracy Comparision')\n",
    "plt.xlabel('Algorithm')\n",
    "plt.ylabel('score in %')\n",
    "plt.show()"
   ]
  },
  {
   "cell_type": "code",
   "execution_count": 284,
   "metadata": {},
   "outputs": [
    {
     "data": {
      "text/plain": [
       "<matplotlib.axes._subplots.AxesSubplot at 0xb80c450>"
      ]
     },
     "execution_count": 284,
     "metadata": {},
     "output_type": "execute_result"
    },
    {
     "data": {
      "image/png": "[encoded data removed]",
      "text/plain": [
       "<Figure size 432x288 with 1 Axes>"
      ]
     },
     "metadata": {},
     "output_type": "display_data"
    }
   ],
   "source": [
    "sns.barplot(x=c,y=d)"
   ]
  },
  {
   "cell_type": "markdown",
   "metadata": {},
   "source": [
    "# Accuracy reports of classifiers:"
   ]
  },
  {
   "cell_type": "markdown",
   "metadata": {},
   "source": [
    "\n",
    "### Multinolmial Naive Bayes - 0.786667\n",
    "### Bernoulli Naive Bayes - 0.766667\n",
    "### Linear SVC - 0.743333\n",
    "### Random Forest Classifier - 0.7166673\n",
    "### BaggingClassifier - 0.693333\n",
    "### Voting Classifier- 0.670000\n",
    "### Gaussain Naive Bayes - 0.666667\n",
    "### Decision Tree Classifier - 0.666667\n",
    "### GradientBoostingClassifier - 0.660000\n",
    "### KNN - 0.600000\n",
    "### Poly SVC - 0.493333\n",
    "### Gaussian SVC - 0.493333\n",
    "\n"
   ]
  },
  {
   "cell_type": "markdown",
   "metadata": {},
   "source": [
    "# According to accuracy reports of classifiers the best one is Multinolmial Naive Bayes - 0.786667"
   ]
  },
  {
   "cell_type": "markdown",
   "metadata": {},
   "source": [
    "# According to metrics score the best classifier is Multinolmial Naive Bayes\t0.785723"
   ]
  },
  {
   "cell_type": "code",
   "execution_count": null,
   "metadata": {},
   "outputs": [],
   "source": []
  }
 ],
 "metadata": {
  "kernelspec": {
   "display_name": "Python 3",
   "language": "python",
   "name": "python3"
  },
  "language_info": {
   "codemirror_mode": {
    "name": "ipython",
    "version": 3
   },
   "file_extension": ".py",
   "mimetype": "text/x-python",
   "name": "python",
   "nbconvert_exporter": "python",
   "pygments_lexer": "ipython3",
   "version": "3.6.5"
  }
 },
 "nbformat": 4,
 "nbformat_minor": 2
}
